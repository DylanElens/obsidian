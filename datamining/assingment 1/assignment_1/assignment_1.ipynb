{
 "cells": [
  {
   "cell_type": "markdown",
   "metadata": {},
   "source": [
    "Before you turn this problem in, make sure everything runs as expected. First, **restart the kernel** (in the menubar, select Kernel$\\rightarrow$Restart) and then **run all cells** (in the menubar, select Cell$\\rightarrow$Run All).\n",
    "\n",
    "Make sure you fill in any place that says `YOUR CODE HERE` or \"YOUR ANSWER HERE\", as well as your name and collaborators below:"
   ]
  },
  {
   "cell_type": "code",
   "execution_count": null,
   "metadata": {},
   "outputs": [],
   "source": [
    "NAME = \"Dylan Elens\"\n",
    "STUDENT_NUMBER = \"s1051438\"\n",
    "COLLABORATOR_NAME = \"Timo Walhof\"\n",
    "COLLABORATOR_STUDENT_NUMBER = \"S1037134\""
   ]
  },
  {
   "cell_type": "markdown",
   "metadata": {},
   "source": [
    "---"
   ]
  },
  {
   "cell_type": "markdown",
   "metadata": {},
   "source": [
    "## **Important:** When handing in your homework:\n",
    "+ Hand in the notebook (and nothing else) **named as follows**: StudentName1_snumber_StudentName2_snumber.ipynb\n",
    "+ Provide clear and complete answers to the questions below under a separate header (not hidden somewhere in your source code), and make sure to explain your answers / motivate your choices. Add Markdown cells where necessary.\n",
    "+ Source code, output graphs, derivations, etc., should be included in the notebook.\n",
    "+ Hand-in: upload to Brightspace.\n",
    "+ Include name, student number, assignment (especially in filenames)!\n",
    "+ When working in pairs only one of you should upload the assignment, and report the name of your partner in your filename.\n",
    "+ Use the Brightspace discussion board or email the student assistants for questions on how to complete the exercises.\n",
    "+ If you find mistakes/have suggestions/would like to complain about the assigment material itself, please email me [Roel] at `Roel.Bouman@ru.nl`\n",
    "+ Do not add/remove any cells in the notebook, else this might break the auto-grading system. **An invalid notebook will mean a severe reduction in your grade!**\n",
    "+ Only type your answers in those places where they are asked.\n",
    "+ Remove any \"raise NotImplementedError()\" statements in the cells you answered."
   ]
  },
  {
   "cell_type": "markdown",
   "metadata": {
    "deletable": false,
    "editable": false,
    "nbgrader": {
     "cell_type": "markdown",
     "checksum": "73a1def63993c1ba37acf90d04fde6a0",
     "grade": false,
     "grade_id": "cell-7489e41b2dec7e73",
     "locked": true,
     "schema_version": 3,
     "solution": false,
     "task": false
    }
   },
   "source": [
    "# Assignment 1\n",
    "\n",
    "## Objective of this assignment\n",
    "The objective is to get acquainted with the Python language, with emphasis on its scientific and numerical extensions, how data can be imported from other data sources, the linear algebra basics that are needed for this course, visualization using principal component analysis (PCA) and the concept of similarity. Upon completing this exercise it is expected that you:\n",
    "\n",
    "- Understand how data can be represented as vectors and matrices in numerical Python (NumPy).\n",
    "- Can apply and interpret principal component analysis (PCA) for data visualization.\n",
    "- Understand the various measures of similarity such as Jaccard and Cosine similarity and apply similarity measures to query for similar observations.\n",
    "\n",
    "\n",
    "## Advised Reading and Exercise Material\n",
    "**The following on-line materials are recommended:**\n",
    "\n",
    "- <http://docs.python.org/tutorial> - Introduction into Python environment, syntax and data structures. Recommended reading - sections 1, 2, 3, 4 and 5.\n",
    "- <https://docs.scipy.org/doc/numpy/user/quickstart.html> - Tutorial introducing the scientific computing in Python, array and matrix operations, indexing and slicing matrices.\n",
    "- <https://docs.scipy.org/doc/numpy/user/numpy-for-matlab-users.html> - Useful reference to scientific computing in Python if you have previous experience with MATLAB programming.\n",
    "- <https://www.datacamp.com/courses/intro-to-python-for-data-science> - Simple introduction to Data Science using Python.\n",
    "- <https://matplotlib.org/> - Documentation and examples related to matplotlib module, which we shall use extensively through the course to visualize data and results.\n",
    "- Pang-Ning Tan, Michael Steinbach, and Vipin Kumar, **Introduction to Data Mining**, sections 2.1-2.3 + (A) + B.1\n",
    "- Pang-Ning Tan, Michael Steinbach, and Vipin Kumar, **Introduction to Data Mining**, sections 2.4 + 3.1-3.2 + C.1-C.2"
   ]
  },
  {
   "cell_type": "markdown",
   "metadata": {
    "deletable": false,
    "editable": false,
    "nbgrader": {
     "cell_type": "markdown",
     "checksum": "571e5f9e11cf911be8bed7c0336052b6",
     "grade": false,
     "grade_id": "cell-776460a4164921ee",
     "locked": true,
     "schema_version": 3,
     "solution": false,
     "task": false
    }
   },
   "source": [
    "## 1.1 Python and Linear Algebra basics\n",
    "\n",
    "**For this course we advise(and require you!) to only use NumPy ndarrays to represent vectors and matrices. The numpy.matrix data type, although intuitive, is mostly deprecated and uses operators for multiplication differently. This means that you can't perform matrix multiplications symbollically, and instead will have to use functions from the NumPy library!** \n",
    "\n",
    "**1.1.1**a) (0.2 points) Generate (and print) the following vectors using functions from the *NumPy* package in Python: \n",
    "*Note: You do not have to print column vectors as columns!*\n",
    "\n",
    "\\begin{equation}\n",
    "     \\textbf{x} = \\begin{pmatrix} \n",
    "         6 \\\\\n",
    "         7 \\\\\n",
    "         8 \\\\\n",
    "         9 \\\\\n",
    "         10 \\\\\n",
    "         11 \\\\\n",
    "         12\n",
    "       \\end{pmatrix}\n",
    "     \\textbf{y} = \\begin{pmatrix} \n",
    "         3 \\\\\n",
    "         7 \\\\\n",
    "         11 \\\\\n",
    "         15 \\\\\n",
    "         19 \\\\\n",
    "         23 \\\\\n",
    "         27\n",
    "       \\end{pmatrix}\n",
    "     \\textbf{w} = \\begin{pmatrix} \n",
    "         1 \\\\\n",
    "         1 \\\\\n",
    "         0 \\\\\n",
    "         0.5 \\\\\n",
    "         1 \\\\\n",
    "         1.5 \\\\\n",
    "         2 \\\\\n",
    "         0 \\\\\n",
    "         0 \n",
    "       \\end{pmatrix}\n",
    "     \\textbf{s} = \\begin{pmatrix}\n",
    "         100 \\\\\n",
    "         98.8 \\\\\n",
    "         97.6 \\\\\n",
    "         96.4 \\\\\n",
    "         95.2\n",
    "       \\end{pmatrix} \n",
    "     \\textbf{z} = \\begin{pmatrix}\n",
    "         0.7 \\\\\n",
    "         1.0 \\\\\n",
    "         1.3 \\\\\n",
    "         1.6 \\\\\n",
    "         1.9 \\\\\n",
    "         2.2 \\\\\n",
    "         2.5 \\\\\n",
    "         2.8\n",
    "       \\end{pmatrix}\n",
    "  \\end{equation}\n",
    "\n"
   ]
  },
  {
   "cell_type": "code",
   "execution_count": 17,
   "metadata": {
    "deletable": false,
    "editable": false,
    "nbgrader": {
     "cell_type": "code",
     "checksum": "53da47fbb0465bee0188a3d1d6013213",
     "grade": false,
     "grade_id": "cell-43e50836d2c76c96",
     "locked": true,
     "schema_version": 3,
     "solution": false,
     "task": false
    }
   },
   "outputs": [],
   "source": [
    "#Import NumPy\n",
    "import numpy as np\n",
    "#You'll have to manually import libraries in the future!"
   ]
  },
  {
   "cell_type": "code",
   "execution_count": 33,
   "metadata": {
    "deletable": false,
    "nbgrader": {
     "cell_type": "code",
     "checksum": "9257cf0c57b2092bc4d90728ea9781a9",
     "grade": false,
     "grade_id": "cell-78c907215aa8b085",
     "locked": false,
     "schema_version": 3,
     "solution": true,
     "task": false
    }
   },
   "outputs": [
    {
     "name": "stdout",
     "output_type": "stream",
     "text": [
      "[ 6  7  8  9 10 11 12]\n",
      "[ 3  7 11 15 19 23 27]\n",
      "[1.  1.  0.  0.5 1.  1.5 2.  0.  0. ]\n",
      "[100.   98.8  97.6  96.4  95.2]\n",
      "[0.7 1.  1.3 1.6 1.9 2.2 2.5 2.8]\n"
     ]
    }
   ],
   "source": [
    "##Generate the vectors in  using Python and NumPy \n",
    "\n",
    "x = np.array([6,7,8,9,10,11,12])\n",
    "y = np.array([3,7,11,15,19,23,27])\n",
    "w = np.array([1,1,0,0.5,1,1.5,2,0,0])\n",
    "s = np.array([100,98.8,97.6,96.4,95.2])\n",
    "z = np.array([0.7,1.0,1.3,1.6,1.9,2.2,2.5,2.8])\n",
    "\n",
    "print(x)\n",
    "print(y)\n",
    "print(w)\n",
    "print(s)\n",
    "print(z)"
   ]
  },
  {
   "cell_type": "code",
   "execution_count": 7,
   "metadata": {
    "deletable": false,
    "editable": false,
    "nbgrader": {
     "cell_type": "code",
     "checksum": "dfd2544541c4f4bec9c22f5ff97a55d4",
     "grade": true,
     "grade_id": "cell-6ec72c394fc2b2d1",
     "locked": true,
     "points": 20,
     "schema_version": 3,
     "solution": false,
     "task": false
    }
   },
   "outputs": [
    {
     "data": {
      "text/plain": [
       "'DO NOT MODIFY THIS CELL'"
      ]
     },
     "execution_count": 7,
     "metadata": {},
     "output_type": "execute_result"
    }
   ],
   "source": [
    "\"\"\"Checks whether 1.1.1.a output is correct\"\"\"\n",
    "\"\"\"DO NOT MODIFY THIS CELL\"\"\""
   ]
  },
  {
   "cell_type": "markdown",
   "metadata": {
    "deletable": false,
    "editable": false,
    "nbgrader": {
     "cell_type": "markdown",
     "checksum": "ea4a13ad02b2e30189a088d19b06ce9a",
     "grade": false,
     "grade_id": "cell-756f8744aee6bc9a",
     "locked": true,
     "schema_version": 3,
     "solution": false,
     "task": false
    }
   },
   "source": [
    "Then compute the following operations:\n",
    "> b) (0.1 points) **v** = 3**x** + **y**"
   ]
  },
  {
   "cell_type": "code",
   "execution_count": 25,
   "metadata": {
    "deletable": false,
    "nbgrader": {
     "cell_type": "code",
     "checksum": "b88848c87e8872c1b9cfb5cd78f96555",
     "grade": false,
     "grade_id": "cell-f20bb3a03a0446a0",
     "locked": false,
     "schema_version": 3,
     "solution": true,
     "task": false
    }
   },
   "outputs": [
    {
     "name": "stdout",
     "output_type": "stream",
     "text": [
      "[21 28 35 42 49 56 63]\n"
     ]
    }
   ],
   "source": [
    "##Answer to question 1.1.1b\n",
    "v = (3 * x) + y\n",
    "\n",
    "print(v)"
   ]
  },
  {
   "cell_type": "code",
   "execution_count": 15,
   "metadata": {
    "deletable": false,
    "editable": false,
    "nbgrader": {
     "cell_type": "code",
     "checksum": "5fafea036bf83d349610254b523f2f8b",
     "grade": true,
     "grade_id": "cell-d5ee2ea59ea185aa",
     "locked": true,
     "points": 10,
     "schema_version": 3,
     "solution": false,
     "task": false
    }
   },
   "outputs": [
    {
     "data": {
      "text/plain": [
       "'DO NOT MODIFY THIS CELL'"
      ]
     },
     "execution_count": 15,
     "metadata": {},
     "output_type": "execute_result"
    }
   ],
   "source": [
    "\"\"\"Checks whether 1.1.1.b output is correct\"\"\"\n",
    "\"\"\"DO NOT MODIFY THIS CELL\"\"\""
   ]
  },
  {
   "cell_type": "markdown",
   "metadata": {
    "deletable": false,
    "editable": false,
    "nbgrader": {
     "cell_type": "markdown",
     "checksum": "b3f5eb75307c835827872d18efdbb953",
     "grade": false,
     "grade_id": "cell-63f5121257148bd9",
     "locked": true,
     "schema_version": 3,
     "solution": false,
     "task": false
    }
   },
   "source": [
    "> c) (0.1 points) Compute the dot product between **x** and **y** and name it **q**\n"
   ]
  },
  {
   "cell_type": "code",
   "execution_count": 26,
   "metadata": {
    "deletable": false,
    "nbgrader": {
     "cell_type": "code",
     "checksum": "71b3d4733e0015e3b3a795006681a3b1",
     "grade": false,
     "grade_id": "cell-202cb8761976ad23",
     "locked": false,
     "schema_version": 3,
     "solution": true,
     "task": false
    }
   },
   "outputs": [
    {
     "name": "stdout",
     "output_type": "stream",
     "text": [
      "1057\n"
     ]
    }
   ],
   "source": [
    "##Answer to question 1.1.1c\n",
    "q = x.dot(y)\n",
    "\n",
    "print(q)"
   ]
  },
  {
   "cell_type": "code",
   "execution_count": null,
   "metadata": {
    "deletable": false,
    "editable": false,
    "nbgrader": {
     "cell_type": "code",
     "checksum": "a650514ca20b721ae7be70d7ff15a173",
     "grade": true,
     "grade_id": "cell-20f77d2a55010304",
     "locked": true,
     "points": 10,
     "schema_version": 3,
     "solution": false,
     "task": false
    }
   },
   "outputs": [],
   "source": [
    "\"\"\"Checks whether 1.1.1.c output is correct\"\"\"\n",
    "\"\"\"DO NOT MODIFY THIS CELL\"\"\""
   ]
  },
  {
   "cell_type": "markdown",
   "metadata": {
    "deletable": false,
    "editable": false,
    "nbgrader": {
     "cell_type": "markdown",
     "checksum": "b1035ae43b403a84cc9d5c5a6e0f88aa",
     "grade": false,
     "grade_id": "cell-0521de24ccf84774",
     "locked": true,
     "schema_version": 3,
     "solution": false,
     "task": false
    }
   },
   "source": [
    "> d) (0.1 points) **t** = $\\pi$ * (**s** + 4) (element wise multiplication)"
   ]
  },
  {
   "cell_type": "code",
   "execution_count": 28,
   "metadata": {
    "deletable": false,
    "nbgrader": {
     "cell_type": "code",
     "checksum": "1308c34c798bcc0c28f5c786248125f1",
     "grade": false,
     "grade_id": "cell-a315df9498c0c934",
     "locked": false,
     "schema_version": 3,
     "solution": true,
     "task": false
    }
   },
   "outputs": [
    {
     "name": "stdout",
     "output_type": "stream",
     "text": [
      "[326.72563597 322.95572479 319.1858136  315.41590242 311.64599124]\n"
     ]
    }
   ],
   "source": [
    "##Answer to question 1.1.1d\n",
    "\n",
    "t = np.pi* (s + 4)\n",
    "\n",
    "print(t)"
   ]
  },
  {
   "cell_type": "code",
   "execution_count": null,
   "metadata": {
    "deletable": false,
    "editable": false,
    "nbgrader": {
     "cell_type": "code",
     "checksum": "fb8cbdb4f13b35f56e6465f8eb7ac5f0",
     "grade": true,
     "grade_id": "cell-56542f85c765f075",
     "locked": true,
     "points": 10,
     "schema_version": 3,
     "solution": false,
     "task": false
    }
   },
   "outputs": [],
   "source": [
    "\"\"\"Checks whether 1.1.1.d output is correct\"\"\"\n",
    "\"\"\"DO NOT MODIFY THIS CELL\"\"\""
   ]
  },
  {
   "cell_type": "markdown",
   "metadata": {
    "deletable": false,
    "editable": false,
    "nbgrader": {
     "cell_type": "markdown",
     "checksum": "b9cf185259f081bc03f79424d118354c",
     "grade": false,
     "grade_id": "cell-5d699e4c877563d1",
     "locked": true,
     "schema_version": 3,
     "solution": false,
     "task": false
    }
   },
   "source": [
    "> e) (0.1 points) **f** = **z** - **1**"
   ]
  },
  {
   "cell_type": "code",
   "execution_count": 29,
   "metadata": {
    "deletable": false,
    "nbgrader": {
     "cell_type": "code",
     "checksum": "1e210254770de1c0c977562e3cf137ae",
     "grade": false,
     "grade_id": "cell-a227d11e3e0d7f9b",
     "locked": false,
     "schema_version": 3,
     "solution": true,
     "task": false
    }
   },
   "outputs": [
    {
     "name": "stdout",
     "output_type": "stream",
     "text": [
      "[-0.3  0.   0.3  0.6  0.9  1.2  1.5  1.8]\n"
     ]
    }
   ],
   "source": [
    "##Answer to question 1.1.1e\n",
    "\n",
    "f = z - 1\n",
    "\n",
    "\n",
    "print(f)"
   ]
  },
  {
   "cell_type": "code",
   "execution_count": null,
   "metadata": {
    "deletable": false,
    "editable": false,
    "nbgrader": {
     "cell_type": "code",
     "checksum": "46e819c3ece3d766c6cec21a781d6f95",
     "grade": true,
     "grade_id": "cell-2410f24eebc43c95",
     "locked": true,
     "points": 10,
     "schema_version": 3,
     "solution": false,
     "task": false
    }
   },
   "outputs": [],
   "source": [
    "\"\"\"Checks whether 1.1.1.e output is correct\"\"\"\n",
    "\"\"\"DO NOT MODIFY THIS CELL\"\"\""
   ]
  },
  {
   "cell_type": "markdown",
   "metadata": {
    "deletable": false,
    "editable": false,
    "nbgrader": {
     "cell_type": "markdown",
     "checksum": "09ddbd278ee0f1396549b3b9e24179ae",
     "grade": false,
     "grade_id": "cell-6ad6cf0b9eb1b509",
     "locked": true,
     "schema_version": 3,
     "solution": false,
     "task": false
    }
   },
   "source": [
    "> f) (0.1 points) replace some values of x, such that the last three values in the vector are 4, assign the result to a new variable called **h**"
   ]
  },
  {
   "cell_type": "code",
   "execution_count": 34,
   "metadata": {
    "deletable": false,
    "nbgrader": {
     "cell_type": "code",
     "checksum": "5ebd56e4ac04d6af8288ffeb3f5c9732",
     "grade": false,
     "grade_id": "cell-4953e949d6d08a1b",
     "locked": false,
     "schema_version": 3,
     "solution": true,
     "task": false
    }
   },
   "outputs": [
    {
     "name": "stdout",
     "output_type": "stream",
     "text": [
      "[ 6  7  8  9 10 11 12]\n",
      "[6 7 8 9 4 4 4]\n"
     ]
    }
   ],
   "source": [
    "##Answer to question 1.1.1f\n",
    "#for i in range(len(v)):\n",
    "    \n",
    "h = np.copy(x)\n",
    "for i in range(len(x)):\n",
    "    if i >= (len(x) - 3):\n",
    "        h[i] = 4\n",
    "    \n",
    "print(h)"
   ]
  },
  {
   "cell_type": "code",
   "execution_count": null,
   "metadata": {
    "deletable": false,
    "editable": false,
    "nbgrader": {
     "cell_type": "code",
     "checksum": "f93f806ad1c043a18026d38673e56a61",
     "grade": true,
     "grade_id": "cell-9b64fe22d508ee45",
     "locked": true,
     "points": 10,
     "schema_version": 3,
     "solution": false,
     "task": false
    }
   },
   "outputs": [],
   "source": [
    "\"\"\"Checks whether 1.1.1.f output is correct\"\"\"\n",
    "\"\"\"DO NOT MODIFY THIS CELL\"\"\""
   ]
  },
  {
   "cell_type": "markdown",
   "metadata": {
    "deletable": false,
    "editable": false,
    "nbgrader": {
     "cell_type": "markdown",
     "checksum": "e15a21af092ab99e0d6ac1ecada7bc65",
     "grade": false,
     "grade_id": "cell-965404ad05408d9c",
     "locked": true,
     "schema_version": 3,
     "solution": false,
     "task": false
    }
   },
   "source": [
    "> g) (0.1 points) **r** = 2**w** - 5"
   ]
  },
  {
   "cell_type": "code",
   "execution_count": 35,
   "metadata": {
    "deletable": false,
    "nbgrader": {
     "cell_type": "code",
     "checksum": "66261f61abb3d2c294010411ad2e81bd",
     "grade": false,
     "grade_id": "cell-c82d1f00a5c4ab00",
     "locked": false,
     "schema_version": 3,
     "solution": true,
     "task": false
    }
   },
   "outputs": [
    {
     "name": "stdout",
     "output_type": "stream",
     "text": [
      "[-3. -3. -5. -4. -3. -2. -1. -5. -5.]\n"
     ]
    }
   ],
   "source": [
    "##Answer to question 1.1.1g\n",
    "\n",
    "r = (2*w)-5\n",
    "\n",
    "\n",
    "\n",
    "print(r)"
   ]
  },
  {
   "cell_type": "code",
   "execution_count": null,
   "metadata": {
    "deletable": false,
    "editable": false,
    "nbgrader": {
     "cell_type": "code",
     "checksum": "1706a5804e869655e25a0cb0ca7cbe31",
     "grade": true,
     "grade_id": "cell-703678d18acc998c",
     "locked": true,
     "points": 10,
     "schema_version": 3,
     "solution": false,
     "task": false
    }
   },
   "outputs": [],
   "source": [
    "\"\"\"Checks whether 1.1.1.g output is correct\"\"\"\n",
    "\"\"\"DO NOT MODIFY THIS CELL\"\"\""
   ]
  },
  {
   "cell_type": "markdown",
   "metadata": {
    "deletable": false,
    "editable": false,
    "nbgrader": {
     "cell_type": "markdown",
     "checksum": "eb6c565dc3d17dd3ec24b3cf3f990242",
     "grade": false,
     "grade_id": "cell-0bc68d22e8c46a13",
     "locked": true,
     "schema_version": 3,
     "solution": false,
     "task": false
    }
   },
   "source": [
    "**1.1.2.a** (0.25 points) Generate these matrices: (As numpy ndarrays, not as np.matrix!)\n",
    "\n",
    "\\begin{equation}\n",
    "     \\textbf{M} = \\begin{pmatrix} \n",
    "         1 & 2 & 3 \\\\\n",
    "         6 & 8 & 4 \\\\\n",
    "         6 & 7 & 5          \n",
    "         \\end{pmatrix}\n",
    "     \\textbf{N} = \\begin{pmatrix} \n",
    "         4 & 6 \\\\\n",
    "         7 & 2 \\\\\n",
    "         5 & 1\n",
    "         \\end{pmatrix}\n",
    "     \\textbf{P} = \\begin{pmatrix} \n",
    "         2 & 5 \\\\\n",
    "         5 & 5 \n",
    "         \\end{pmatrix}   \n",
    "\\end{equation}\n",
    "\n",
    "Afterwards try and compute the operations for subquestions *a* up to and including *e* and print the resulting matrix. **If some operations yield errors, give the reason as to why that happens and comment out the code that yields the error.** (As an exception, you can answer the question about the reason in a comment)\n",
    "\n",
    "*A hint: NumPy has functions for matrix operations you can, and should, use! For instance, **M &ast; N** should be calculated with NumPy's `dot` product. Different operations, such as the &ast; operator or np.matmul may not work as you might think!*"
   ]
  },
  {
   "cell_type": "code",
   "execution_count": 51,
   "metadata": {
    "deletable": false,
    "nbgrader": {
     "cell_type": "code",
     "checksum": "c3d1e050d11a93febedfd84834740339",
     "grade": false,
     "grade_id": "cell-4afb0f2e05f34ef4",
     "locked": false,
     "schema_version": 3,
     "solution": true,
     "task": false
    }
   },
   "outputs": [
    {
     "name": "stdout",
     "output_type": "stream",
     "text": [
      "[[1 2 3]\n",
      " [6 8 4]\n",
      " [6 7 5]]\n",
      "[[4 6]\n",
      " [7 2]\n",
      " [5 1]]\n",
      "[[2 5]\n",
      " [5 5]]\n"
     ]
    }
   ],
   "source": [
    "##Generate the matrices using Python and NumPy\n",
    "\n",
    "M = np.array([[1,2,3],[6,8,4], [6,7,5]])\n",
    "N = np.array([[4,6],[7,2],[5,1]])\n",
    "P = np.array([[2,5],[5,5]])\n",
    "\n",
    "print(M)\n",
    "print(N)\n",
    "print(P)"
   ]
  },
  {
   "cell_type": "code",
   "execution_count": null,
   "metadata": {
    "deletable": false,
    "editable": false,
    "nbgrader": {
     "cell_type": "code",
     "checksum": "7231f67dadb8354c42e5cc8fb4dca179",
     "grade": true,
     "grade_id": "cell-fc482e67f77bf335",
     "locked": true,
     "points": 25,
     "schema_version": 3,
     "solution": false,
     "task": false
    }
   },
   "outputs": [],
   "source": [
    "\"\"\"Checks whether 1.1.2.a output is correct\"\"\"\n",
    "\"\"\"DO NOT MODIFY THIS CELL\"\"\""
   ]
  },
  {
   "cell_type": "markdown",
   "metadata": {
    "deletable": false,
    "editable": false,
    "nbgrader": {
     "cell_type": "markdown",
     "checksum": "f81170808644aad8b8cceafd8493a6b1",
     "grade": false,
     "grade_id": "cell-fdf2c57c6c7a7fac",
     "locked": true,
     "schema_version": 3,
     "solution": false,
     "task": false
    }
   },
   "source": [
    "> b. (0.2 points) **A** = **MN** + **N**"
   ]
  },
  {
   "cell_type": "code",
   "execution_count": 37,
   "metadata": {
    "deletable": false,
    "nbgrader": {
     "cell_type": "code",
     "checksum": "928c32d95faaf16243ed26b1db186d01",
     "grade": false,
     "grade_id": "cell-2bdcb76c7798d91a",
     "locked": false,
     "schema_version": 3,
     "solution": true,
     "task": false
    }
   },
   "outputs": [
    {
     "name": "stdout",
     "output_type": "stream",
     "text": [
      "[[ 37  19]\n",
      " [107  58]\n",
      " [103  56]]\n"
     ]
    }
   ],
   "source": [
    "##Answer to question 1.1.b.a\n",
    "\n",
    "A = M.dot(N) + N\n",
    "\n",
    "\n",
    "print(A)"
   ]
  },
  {
   "cell_type": "code",
   "execution_count": null,
   "metadata": {
    "deletable": false,
    "editable": false,
    "nbgrader": {
     "cell_type": "code",
     "checksum": "935d1fa42ba3cb85a7df256b9bf745e2",
     "grade": true,
     "grade_id": "cell-08c469fe2867215d",
     "locked": true,
     "points": 20,
     "schema_version": 3,
     "solution": false,
     "task": false
    }
   },
   "outputs": [],
   "source": [
    "\"\"\"Checks whether 1.1.2.b output is correct\"\"\"\n",
    "\"\"\"DO NOT MODIFY THIS CELL\"\"\""
   ]
  },
  {
   "cell_type": "markdown",
   "metadata": {
    "deletable": false,
    "editable": false,
    "nbgrader": {
     "cell_type": "markdown",
     "checksum": "b335003f13625aa266feb408110f42cb",
     "grade": false,
     "grade_id": "cell-d1e06444b847cf2a",
     "locked": true,
     "schema_version": 3,
     "solution": false,
     "task": false
    }
   },
   "source": [
    "> c. (0.2 points) **B** = **N**<sup>T</sup>**M**"
   ]
  },
  {
   "cell_type": "code",
   "execution_count": 38,
   "metadata": {
    "deletable": false,
    "nbgrader": {
     "cell_type": "code",
     "checksum": "e5893142bb29fcf4637d197bb30d2a87",
     "grade": false,
     "grade_id": "cell-62e143e0c9de5eee",
     "locked": false,
     "schema_version": 3,
     "solution": true,
     "task": false
    }
   },
   "outputs": [
    {
     "name": "stdout",
     "output_type": "stream",
     "text": [
      "[[76 99 65]\n",
      " [24 35 31]]\n"
     ]
    }
   ],
   "source": [
    "##Answer to question 1.1.2c\n",
    "\n",
    "B = N.transpose().dot(M)\n",
    "\n",
    "\n",
    "print(B)"
   ]
  },
  {
   "cell_type": "code",
   "execution_count": null,
   "metadata": {
    "deletable": false,
    "editable": false,
    "nbgrader": {
     "cell_type": "code",
     "checksum": "616acf783ce53ae12411f5a85c5aa490",
     "grade": true,
     "grade_id": "cell-816d844646405dc2",
     "locked": true,
     "points": 20,
     "schema_version": 3,
     "solution": false,
     "task": false
    }
   },
   "outputs": [],
   "source": [
    "\"\"\"Checks whether 1.1.2.c output is correct\"\"\"\n",
    "\"\"\"DO NOT MODIFY THIS CELL\"\"\""
   ]
  },
  {
   "cell_type": "markdown",
   "metadata": {
    "deletable": false,
    "editable": false,
    "nbgrader": {
     "cell_type": "markdown",
     "checksum": "8c99bd3232f71c0d6ee5d4ecb98bbb9b",
     "grade": false,
     "grade_id": "cell-2d4ad77568c179d1",
     "locked": true,
     "schema_version": 3,
     "solution": false,
     "task": false
    }
   },
   "source": [
    "> d. (0.2 points) **C** = **P**<sup>-1</sup> + **P**"
   ]
  },
  {
   "cell_type": "code",
   "execution_count": 46,
   "metadata": {
    "deletable": false,
    "nbgrader": {
     "cell_type": "code",
     "checksum": "d1affa537704af5f212a1935a68cbc31",
     "grade": false,
     "grade_id": "cell-619687add5c7de79",
     "locked": false,
     "schema_version": 3,
     "solution": true,
     "task": false
    }
   },
   "outputs": [
    {
     "name": "stdout",
     "output_type": "stream",
     "text": [
      "<module 'numpy.linalg' from '/home/dylan/anaconda3/lib/python3.11/site-packages/numpy/linalg/__init__.py'>\n",
      "[[1.66666667 5.33333333]\n",
      " [5.33333333 4.86666667]]\n"
     ]
    }
   ],
   "source": [
    "##Answer to question 1.1.2d\n",
    "\n",
    "C = np.linalg.inv(P) + P\n",
    "\n",
    "print(C)"
   ]
  },
  {
   "cell_type": "code",
   "execution_count": null,
   "metadata": {
    "deletable": false,
    "editable": false,
    "nbgrader": {
     "cell_type": "code",
     "checksum": "3a0477a22d643b728c12c192dfea2519",
     "grade": true,
     "grade_id": "cell-c53cb14ae84755d0",
     "locked": true,
     "points": 20,
     "schema_version": 3,
     "solution": false,
     "task": false
    }
   },
   "outputs": [],
   "source": [
    "\"\"\"Checks whether 1.1.2.d output is correct\"\"\"\n",
    "\"\"\"DO NOT MODIFY THIS CELL\"\"\""
   ]
  },
  {
   "cell_type": "markdown",
   "metadata": {
    "deletable": false,
    "editable": false,
    "nbgrader": {
     "cell_type": "markdown",
     "checksum": "4ee35b7daca1a789eec77ff17025e14f",
     "grade": false,
     "grade_id": "cell-b83faf27b0c8e04a",
     "locked": true,
     "schema_version": 3,
     "solution": false,
     "task": false
    }
   },
   "source": [
    "> e. (0.2 points) **D** = **AC**(**C** + **B**)"
   ]
  },
  {
   "cell_type": "code",
   "execution_count": 49,
   "metadata": {
    "deletable": false,
    "nbgrader": {
     "cell_type": "code",
     "checksum": "b36d63abae4fb5b91991587b5b4cd6dc",
     "grade": true,
     "grade_id": "cell-dabacc8aa2798662",
     "locked": false,
     "points": 20,
     "schema_version": 3,
     "solution": true,
     "task": false
    }
   },
   "outputs": [],
   "source": [
    "##Answer to question 1.1.2e\n",
    "##will_not_work = C + B\n",
    "##D = (A.dot(C)).dot(temp)\n",
    "# this will not work since in order to mutiply matrices they need to have the same rows and cols\n",
    "# YOUR CODE HERE\n",
    "#print(D)"
   ]
  },
  {
   "cell_type": "code",
   "execution_count": null,
   "metadata": {
    "deletable": false,
    "editable": false,
    "nbgrader": {
     "cell_type": "code",
     "checksum": "08f01c78ada1ec3f51a79ee0a77e38f5",
     "grade": true,
     "grade_id": "cell-93d86770667975ed",
     "locked": true,
     "points": 0,
     "schema_version": 3,
     "solution": false,
     "task": false
    }
   },
   "outputs": [],
   "source": [
    "\"\"\"Checks whether 1.1.2.e output is correct\"\"\"\n",
    "\"\"\"DO NOT MODIFY THIS CELL\"\"\""
   ]
  },
  {
   "cell_type": "markdown",
   "metadata": {
    "deletable": false,
    "editable": false,
    "nbgrader": {
     "cell_type": "markdown",
     "checksum": "93e11a07a01519459f536c1207260ac6",
     "grade": false,
     "grade_id": "cell-934ad6f050761e6c",
     "locked": true,
     "schema_version": 3,
     "solution": false,
     "task": false
    }
   },
   "source": [
    "> f. (0.2 points) Compute the eigenvalues and eigenvectors of **M**, **N**, and **P**, save them as **M_eigvalue** & **M_eigvector**, **N_eigvalue** & **N_eigvector**, and **P_eigvalue** & **P_eigvector** respectively. Then print them."
   ]
  },
  {
   "cell_type": "code",
   "execution_count": 54,
   "metadata": {
    "deletable": false,
    "nbgrader": {
     "cell_type": "code",
     "checksum": "4bc2d2cfcd1df30541ba1537eb9af087",
     "grade": true,
     "grade_id": "cell-b3be21eb6760580a",
     "locked": false,
     "points": 10,
     "schema_version": 3,
     "solution": true,
     "task": false
    }
   },
   "outputs": [
    {
     "name": "stdout",
     "output_type": "stream",
     "text": [
      "[14.26208735 -1.26208735  1.        ]\n",
      "[[-0.25759308 -0.84234218  0.51507875]\n",
      " [-0.68324439  0.38109032 -0.71318597]\n",
      " [-0.68324439  0.38109032  0.47545731]]\n",
      "[-1.72015325  8.72015325]\n",
      "[[-0.80229293 -0.59693053]\n",
      " [ 0.59693053 -0.80229293]]\n"
     ]
    }
   ],
   "source": [
    "##Answer to question 1.1.2f\n",
    "M_eigvalue, M_eigvector = np.linalg.eig(M)\n",
    "\n",
    "\n",
    "# N_eigvalue, N_eigvector = np.linalg.eig(N)\n",
    "# will not work since the matrix is not a square\n",
    "\n",
    "P_eigvalue, P_eigvector = np.linalg.eig(P)\n",
    "\n",
    "print(M_eigvalue)\n",
    "print(M_eigvector)\n",
    "\n",
    "print(P_eigvalue)\n",
    "print(P_eigvector)"
   ]
  },
  {
   "cell_type": "code",
   "execution_count": null,
   "metadata": {
    "deletable": false,
    "editable": false,
    "nbgrader": {
     "cell_type": "code",
     "checksum": "b3425b1ba6d083308195ff7ebeea3c97",
     "grade": true,
     "grade_id": "cell-d35b4610877002ea",
     "locked": true,
     "points": 10,
     "schema_version": 3,
     "solution": false,
     "task": false
    }
   },
   "outputs": [],
   "source": [
    "\"\"\"Checks whether 1.1.2.f output is correct\"\"\"\n",
    "\"\"\"DO NOT MODIFY THIS CELL\"\"\""
   ]
  },
  {
   "cell_type": "markdown",
   "metadata": {
    "deletable": false,
    "editable": false,
    "nbgrader": {
     "cell_type": "markdown",
     "checksum": "81e0e280175de332407a3345f17552ea",
     "grade": false,
     "grade_id": "cell-154174a2fc6332df",
     "locked": true,
     "schema_version": 3,
     "solution": false,
     "task": false
    }
   },
   "source": [
    "## 1.2 The basics of data wrangling\n",
    "\n",
    "Data comes in many shapes and forms, and part of the task of Data Mining is hammering the data into a shape you can analyze.\n",
    "\n",
    "For most usecases in this course, your data will be represented in a matrix, with the rows indicating the samples/measurements, and the columns indicating the attributes/features.\n",
    "For now, you won't have to get the data into a proper shape yet, but you'll have to perform some basic, but useful, operations on a toy dataset included in the Pandas library. Read the comments in the code below, as they will provide useful insight in how to perform these operations yourself later."
   ]
  },
  {
   "cell_type": "code",
   "execution_count": 65,
   "metadata": {
    "deletable": false,
    "editable": false,
    "nbgrader": {
     "cell_type": "code",
     "checksum": "8aeca8c0fbe63c9b4d6f4462e56fdf78",
     "grade": false,
     "grade_id": "cell-b3fbd3e8ac75e8aa",
     "locked": true,
     "schema_version": 3,
     "solution": false,
     "task": false
    }
   },
   "outputs": [
    {
     "name": "stdout",
     "output_type": "stream",
     "text": [
      "Here follows a print of the first few rows of the Iris dataset: \n",
      "   sepal_length  sepal_width  petal_length  petal_width species\n",
      "0           5.1          3.5           1.4          0.2  setosa\n",
      "1           4.9          3.0           1.4          0.2  setosa\n",
      "2           4.7          3.2           1.3          0.2  setosa\n",
      "3           4.6          3.1           1.5          0.2  setosa\n",
      "4           5.0          3.6           1.4          0.2  setosa\n",
      "iris data after removing the last columns: \n",
      "   sepal_length  sepal_width  petal_length  petal_width\n",
      "0           5.1          3.5           1.4          0.2\n",
      "1           4.9          3.0           1.4          0.2\n",
      "2           4.7          3.2           1.3          0.2\n",
      "3           4.6          3.1           1.5          0.2\n",
      "4           5.0          3.6           1.4          0.2\n",
      "first five rows of the iris data as numpy array: \n",
      "[[5.1 3.5 1.4 0.2]\n",
      " [4.9 3.  1.4 0.2]\n",
      " [4.7 3.2 1.3 0.2]\n",
      " [4.6 3.1 1.5 0.2]\n",
      " [5.  3.6 1.4 0.2]]\n"
     ]
    }
   ],
   "source": [
    "# Loading toy data from the seaborn package\n",
    "# normally, seaborn is a plotting package, but it includes useful datasets in the Pandas Dataframe format.\n",
    "import seaborn as sns\n",
    "\n",
    "iris_data = sns.load_dataset('iris')\n",
    "\n",
    "print('Here follows a print of the first few rows of the Iris dataset: ')\n",
    "print(iris_data.head())\n",
    "\n",
    "# The Pandas Dataframe is different from the NumPy ndarray. \n",
    "# Dataframes can contain mixed types of data, and have an index (the first column) \n",
    "# as well as a header (the first row) containing information about what is in the data.\n",
    "\n",
    "# We don't want the string data in the \"species\" column in our data matrix, as it is not numerical, \n",
    "# so we'll remove it by selecting all other columns\n",
    "iris_data_numerical = iris_data[[\"sepal_length\", \"sepal_width\", \"petal_length\", \"petal_width\"]]\n",
    "\n",
    "print(\"iris data after removing the last columns: \")\n",
    "print(iris_data_numerical.head())\n",
    "\n",
    "# Now we'll extract only the numbers from the 4 relevant columns by coercing the Dataframe to a NumPy ndarray\n",
    "iris_data_numpy = iris_data_numerical.values\n",
    "\n",
    "print(\"first five rows of the iris data as numpy array: \")\n",
    "print(iris_data_numpy[:5,:])\n",
    "\n",
    "\n",
    "# As you can see, the rich format of the Dataframe is lost, but we end up with a familiar type of matrix representation\n",
    "\n",
    "# We'll save the numpy array to a variable called \"X\"\n",
    "\n",
    "X = iris_data_numpy"
   ]
  },
  {
   "cell_type": "markdown",
   "metadata": {
    "deletable": false,
    "editable": false,
    "nbgrader": {
     "cell_type": "markdown",
     "checksum": "973bfb24cead273791ad02bf53a4256f",
     "grade": false,
     "grade_id": "cell-d5f99c216398c6ae",
     "locked": true,
     "schema_version": 3,
     "solution": false,
     "task": false
    }
   },
   "source": [
    "**1.2.1: summary statistics** An important part of data analysis is finding out summary statistics for a given dataset. The mean and the standard deviation are statistics which are often looked at per attribute to get a feel for the data\n",
    "\n",
    "> a) (0.25 points) Calculate the mean for each attribute and save it to a ndarray called `X_means`\n",
    "\n",
    "You can use the `np.mean()` function for this. Take a look at the documentation to find out how to use it, and how to set the `axis` argument to obtain the mean of each column."
   ]
  },
  {
   "cell_type": "code",
   "execution_count": 61,
   "metadata": {
    "deletable": false,
    "nbgrader": {
     "cell_type": "code",
     "checksum": "1c4c90850e7c11b73db6b6fab6ec4958",
     "grade": false,
     "grade_id": "cell-dcc683f049068729",
     "locked": false,
     "schema_version": 3,
     "solution": true,
     "task": false
    }
   },
   "outputs": [
    {
     "name": "stdout",
     "output_type": "stream",
     "text": [
      "[2.55  2.375 2.35  2.35  2.55  2.85  2.425 2.525 2.225 2.4   2.7   2.5\n",
      " 2.325 2.125 2.8   3.    2.75  2.575 2.875 2.675 2.675 2.675 2.35  2.65\n",
      " 2.575 2.45  2.6   2.6   2.55  2.425 2.425 2.675 2.725 2.825 2.425 2.4\n",
      " 2.625 2.5   2.225 2.55  2.525 2.1   2.275 2.675 2.8   2.375 2.675 2.35\n",
      " 2.675 2.475 4.075 3.9   4.1   3.275 3.85  3.575 3.975 2.9   3.85  3.3\n",
      " 2.875 3.65  3.3   3.775 3.35  3.9   3.65  3.4   3.6   3.275 3.925 3.55\n",
      " 3.8   3.7   3.725 3.85  3.95  4.1   3.725 3.2   3.2   3.15  3.4   3.85\n",
      " 3.6   3.875 4.    3.575 3.5   3.325 3.425 3.775 3.4   2.9   3.45  3.525\n",
      " 3.525 3.675 2.925 3.475 4.525 3.875 4.525 4.15  4.375 4.825 3.4   4.575\n",
      " 4.2   4.85  4.2   4.075 4.35  3.8   4.025 4.3   4.2   5.1   4.875 3.675\n",
      " 4.525 3.825 4.8   3.925 4.45  4.55  3.9   3.95  4.225 4.4   4.55  5.025\n",
      " 4.25  3.925 3.925 4.775 4.425 4.2   3.9   4.375 4.45  4.35  3.875 4.55\n",
      " 4.55  4.3   3.925 4.175 4.325 3.95 ]\n"
     ]
    }
   ],
   "source": [
    "X_means = np.mean(X, axis=1)\n",
    "\n",
    "print(X_means)"
   ]
  },
  {
   "cell_type": "code",
   "execution_count": null,
   "metadata": {
    "deletable": false,
    "editable": false,
    "nbgrader": {
     "cell_type": "code",
     "checksum": "33b7d047b9dd870fbd20ba07c430d4db",
     "grade": true,
     "grade_id": "cell-50f49c3a2dbab49c",
     "locked": true,
     "points": 25,
     "schema_version": 3,
     "solution": false,
     "task": false
    }
   },
   "outputs": [],
   "source": [
    "\"\"\"Checks whether 1.2.1.a output is correct\"\"\"\n",
    "\"\"\"DO NOT MODIFY THIS CELL\"\"\""
   ]
  },
  {
   "cell_type": "markdown",
   "metadata": {
    "deletable": false,
    "editable": false,
    "nbgrader": {
     "cell_type": "markdown",
     "checksum": "82f7bdc7038f34a1a0cc1e6d53b2d399",
     "grade": false,
     "grade_id": "cell-b8885185283c0217",
     "locked": true,
     "schema_version": 3,
     "solution": false,
     "task": false
    }
   },
   "source": [
    "> b) (0.25 points) Calculate the standard deviation for each attribute and save it to a ndarray called `X_stds`\n",
    "\n",
    "You can use the `np.std()` function for this. Take a look at the documentation to find out how to use it, and how to set the `axis` argument to obtain the standard deviation of each column."
   ]
  },
  {
   "cell_type": "code",
   "execution_count": 62,
   "metadata": {
    "deletable": false,
    "nbgrader": {
     "cell_type": "code",
     "checksum": "a69c9135be8388e657b144e99b9783f6",
     "grade": false,
     "grade_id": "cell-4a9bbf2cb947b66e",
     "locked": false,
     "schema_version": 3,
     "solution": true,
     "task": false
    }
   },
   "outputs": [
    {
     "name": "stdout",
     "output_type": "stream",
     "text": [
      "[1.88745861 1.76405074 1.72988439 1.65604952 1.86748494 1.93196791\n",
      " 1.67686463 1.82671153 1.57856739 1.79164729 1.99874961 1.74642492\n",
      " 1.75979402 1.63152536 2.22261108 2.13658606 1.99812412 1.85657615\n",
      " 2.05228531 1.88198698 1.93826598 1.83626659 1.80762275 1.7284386\n",
      " 1.71227188 1.7741195  1.74928557 1.9065676  1.90984293 1.68874954\n",
      " 1.71227188 1.90443561 2.02530862 2.1194044  1.75979402 1.8493242\n",
      " 2.04129248 1.86681547 1.60370664 1.86077941 1.83898749 1.55563492\n",
      " 1.62999233 1.69908063 1.79304211 1.69760861 1.89917745 1.68151717\n",
      " 1.96516539 1.82944664 2.0535031  1.79304211 2.01494417 1.6068214\n",
      " 1.88480768 1.6693936  1.73403431 1.41598023 1.97040605 1.40890028\n",
      " 1.51554446 1.61322658 1.88944436 1.77957158 1.5435349  1.93520025\n",
      " 1.54677083 1.76776695 1.86681547 1.66789538 1.55784306 1.75570499\n",
      " 1.9        1.85876303 1.87399973 1.90984293 2.04144557 1.9065676\n",
      " 1.68874954 1.69852878 1.63554272 1.659066   1.68374582 1.77270979\n",
      " 1.48492424 1.60526478 1.92613603 1.93051159 1.57003185 1.57856739\n",
      " 1.6498106  1.75552699 1.70293864 1.46116392 1.61012422 1.64829457\n",
      " 1.62230546 1.80329559 1.43592305 1.62230546 1.65283847 1.61922049\n",
      " 2.04496332 1.85809042 1.8143525  2.32419341 1.33790882 2.28623599\n",
      " 2.08925824 1.88215302 1.72771525 1.83898749 1.88480768 1.5795569\n",
      " 1.45322916 1.62941707 1.88281704 2.20340645 2.44374201 1.8753333\n",
      " 1.85253205 1.47372827 2.44233495 1.77535208 1.83507493 2.15116248\n",
      " 1.71172428 1.66207701 1.8143525  2.21359436 2.26991189 2.28076193\n",
      " 1.78535711 1.88198698 1.97910965 2.21288838 1.58488959 1.83711731\n",
      " 1.61554944 1.88596792 1.7613915  1.79094947 1.61922049 1.85539753\n",
      " 1.71099386 1.75071414 1.79774164 1.7725335  1.55141065 1.63171689]\n"
     ]
    }
   ],
   "source": [
    "X_stds = np.std(X, axis=1)\n",
    "\n",
    "print(X_stds)"
   ]
  },
  {
   "cell_type": "code",
   "execution_count": null,
   "metadata": {
    "deletable": false,
    "editable": false,
    "nbgrader": {
     "cell_type": "code",
     "checksum": "da83c3703028b842837220a61f16292a",
     "grade": true,
     "grade_id": "cell-cfea1277a1240098",
     "locked": true,
     "points": 25,
     "schema_version": 3,
     "solution": false,
     "task": false
    }
   },
   "outputs": [],
   "source": [
    "\"\"\"Checks whether 1.2.1.b output is correct\"\"\"\n",
    "\"\"\"DO NOT MODIFY THIS CELL\"\"\""
   ]
  },
  {
   "cell_type": "markdown",
   "metadata": {
    "deletable": false,
    "editable": false,
    "nbgrader": {
     "cell_type": "markdown",
     "checksum": "c8fffc45c0a1e5f934f160eaa76c4271",
     "grade": false,
     "grade_id": "cell-aea8a32e37971849",
     "locked": true,
     "schema_version": 3,
     "solution": false,
     "task": false
    }
   },
   "source": [
    "**1.2.2: data selection and filtering** Often, you don't want to analyze the entire dataset, but you are looking at a subset. You may for example need to perform a train-test split when you are validating your models (will be covered in later weeks). Other times, you need to filter out data which is not of interest to you.\n",
    "\n",
    "First we're going to select the first 2/3rds of the data, afterwards we'll perform a filtering operation on it.\n",
    "\n",
    "We first need to determine how many samples we have, before we can determine how large 2/3rds is.\n",
    "\n",
    "> a) (0.1 points) Determine what how many samples we have in the iris dataset. Save the answer to a variable called `n_samples`\n",
    "\n",
    "You can use the `.shape` attribute or the `np.shape` function to find the shape of an array/matrix. Think about how the ordering works, which element of the tuple gives the number of samples?"
   ]
  },
  {
   "cell_type": "code",
   "execution_count": 69,
   "metadata": {
    "deletable": false,
    "nbgrader": {
     "cell_type": "code",
     "checksum": "e65c75373e74be89cee34e046a12bd3c",
     "grade": false,
     "grade_id": "cell-a2a36e60d4188e94",
     "locked": false,
     "schema_version": 3,
     "solution": true,
     "task": false
    }
   },
   "outputs": [
    {
     "name": "stdout",
     "output_type": "stream",
     "text": [
      "150\n"
     ]
    }
   ],
   "source": [
    "n_samples = np.shape(X)[0]\n",
    "\n",
    "print(n_samples)"
   ]
  },
  {
   "cell_type": "code",
   "execution_count": null,
   "metadata": {
    "deletable": false,
    "editable": false,
    "nbgrader": {
     "cell_type": "code",
     "checksum": "e0a385405e8ee57b50b9317c2eaf1963",
     "grade": true,
     "grade_id": "cell-e5f500098a1e01cb",
     "locked": true,
     "points": 10,
     "schema_version": 3,
     "solution": false,
     "task": false
    }
   },
   "outputs": [],
   "source": [
    "\"\"\"Checks whether 1.2.2.a output is correct\"\"\"\n",
    "\"\"\"DO NOT MODIFY THIS CELL\"\"\""
   ]
  },
  {
   "cell_type": "markdown",
   "metadata": {
    "deletable": false,
    "editable": false,
    "nbgrader": {
     "cell_type": "markdown",
     "checksum": "f4893b42a2d94db60c4e065284d23581",
     "grade": false,
     "grade_id": "cell-3327ac36c0c5d73d",
     "locked": true,
     "schema_version": 3,
     "solution": false,
     "task": false
    }
   },
   "source": [
    "> b) (0.3 points) Select the first 2/3rd of the data, and write it to a variable called `X_train`.\n",
    "\n",
    "You can use indexing to select certain elements of a matrix. \n",
    "`X[0,:]` selects the first sample. (a colon means \"all\" on that axis)\n",
    "`X[:,:2]` selects the first two columns.\n",
    "`X[4:10,0]` selects the 5th to the 9th sample, but only the first attribute."
   ]
  },
  {
   "cell_type": "code",
   "execution_count": 72,
   "metadata": {
    "deletable": false,
    "nbgrader": {
     "cell_type": "code",
     "checksum": "f56f51b571b44bad280f54b27c811193",
     "grade": false,
     "grade_id": "cell-dad28ff5c261fbf6",
     "locked": false,
     "schema_version": 3,
     "solution": true,
     "task": false
    }
   },
   "outputs": [
    {
     "name": "stdout",
     "output_type": "stream",
     "text": [
      "(100, 4)\n"
     ]
    }
   ],
   "source": [
    "n_samples_in_train = int( 2*(n_samples / 3))\n",
    "X_train = X[0:n_samples_in_train]\n",
    "\n",
    "print(np.shape(X_train))"
   ]
  },
  {
   "cell_type": "code",
   "execution_count": null,
   "metadata": {
    "deletable": false,
    "editable": false,
    "nbgrader": {
     "cell_type": "code",
     "checksum": "272db36f0a55a1efed4f9afa08f8a0df",
     "grade": true,
     "grade_id": "cell-a01bd4ff1b9616e6",
     "locked": true,
     "points": 30,
     "schema_version": 3,
     "solution": false,
     "task": false
    }
   },
   "outputs": [],
   "source": [
    "\"\"\"Checks whether 1.2.2.b output is correct\"\"\"\n",
    "\"\"\"DO NOT MODIFY THIS CELL\"\"\""
   ]
  },
  {
   "cell_type": "markdown",
   "metadata": {
    "deletable": false,
    "editable": false,
    "nbgrader": {
     "cell_type": "markdown",
     "checksum": "64e1f415e94ea57118046d53ba3512f7",
     "grade": false,
     "grade_id": "cell-8e8032d94b91d066",
     "locked": true,
     "schema_version": 3,
     "solution": false,
     "task": false
    }
   },
   "source": [
    "## Intermezzo: proper scientific plotting practices \n",
    "\n",
    "**In this course and many others** you will be asked to make a lot of plots. If you've ever read an academic paper, you'll have noticed that **besides** axis labels, titles and legends, these also contain a figure description *for each plot*. The idea is that you can 'read' a figure without skimming through the text for the explanation. So these figure descriptions should contain\n",
    "\n",
    "1. A short sentence in natural language explaining what we're looking at, (what is on each axis?)\n",
    "2. references to the axis labels and legend if these are not clear immediately, and\n",
    "3. provide a short answer to the question that it belongs to. \n",
    "\n",
    "### Examples:"
   ]
  },
  {
   "cell_type": "code",
   "execution_count": 74,
   "metadata": {
    "deletable": false,
    "editable": false,
    "nbgrader": {
     "cell_type": "code",
     "checksum": "b9bcd9206bb41623c6188edf14b0cba6",
     "grade": false,
     "grade_id": "cell-a14e18380558dc80",
     "locked": true,
     "schema_version": 3,
     "solution": false,
     "task": false
    }
   },
   "outputs": [
    {
     "data": {
      "image/png": "[encoded data removed]",
      "text/plain": [
       "<Figure size 640x480 with 1 Axes>"
      ]
     },
     "metadata": {},
     "output_type": "display_data"
    },
    {
     "name": "stdout",
     "output_type": "stream",
     "text": [
      "Figure 1: an example of a simple plot. X axis shows the index of each element, the Y axis shows increasing numbers.\n"
     ]
    },
    {
     "data": {
      "image/png": "[encoded data removed]",
      "text/plain": [
       "<Figure size 640x480 with 1 Axes>"
      ]
     },
     "metadata": {},
     "output_type": "display_data"
    },
    {
     "name": "stdout",
     "output_type": "stream",
     "text": [
      "Figure 2: an example of a slightly more complex plot, where we explicitely set the values on the X axis. X axis shows the index of each element, the Y axis shows increasing numbers.\n"
     ]
    },
    {
     "ename": "AttributeError",
     "evalue": "module 'numpy' has no attribute 'int'.\n`np.int` was a deprecated alias for the builtin `int`. To avoid this error in existing code, use `int` by itself. Doing this will not modify any behavior and is safe. When replacing `np.int`, you may wish to use e.g. `np.int64` or `np.int32` to specify the precision. If you wish to review your current use, check the release note link for additional information.\nThe aliases was originally deprecated in NumPy 1.20; for more details and guidance see the original release note at:\n    https://numpy.org/devdocs/release/1.20.0-notes.html#deprecations",
     "output_type": "error",
     "traceback": [
      "\u001b[0;31m---------------------------------------------------------------------------\u001b[0m",
      "\u001b[0;31mAttributeError\u001b[0m                            Traceback (most recent call last)",
      "Cell \u001b[0;32mIn[74], line 48\u001b[0m\n\u001b[1;32m     46\u001b[0m im \u001b[38;5;241m=\u001b[39m np\u001b[38;5;241m.\u001b[39mzeros((\u001b[38;5;241m28\u001b[39m, \u001b[38;5;241m28\u001b[39m)) \u001b[38;5;66;03m# creates an 28x28 array of zeros\u001b[39;00m\n\u001b[1;32m     47\u001b[0m points \u001b[38;5;241m=\u001b[39m \u001b[38;5;241m28\u001b[39m \u001b[38;5;241m*\u001b[39m np\u001b[38;5;241m.\u001b[39mrandom\u001b[38;5;241m.\u001b[39mrandom((\u001b[38;5;241m2\u001b[39m, \u001b[38;5;241m3\u001b[39m \u001b[38;5;241m*\u001b[39m\u001b[38;5;241m*\u001b[39m \u001b[38;5;241m2\u001b[39m)) \u001b[38;5;66;03m# creates 28 random (x,y) pairs that we will use as indices\u001b[39;00m\n\u001b[0;32m---> 48\u001b[0m im[(points[\u001b[38;5;241m0\u001b[39m])\u001b[38;5;241m.\u001b[39mastype(np\u001b[38;5;241m.\u001b[39mint), (points[\u001b[38;5;241m1\u001b[39m])\u001b[38;5;241m.\u001b[39mastype(np\u001b[38;5;241m.\u001b[39mint)] \u001b[38;5;241m=\u001b[39m \u001b[38;5;241m1\u001b[39m \u001b[38;5;66;03m# sets the value at those indices to 1\u001b[39;00m\n\u001b[1;32m     49\u001b[0m im \u001b[38;5;241m=\u001b[39m ndimage\u001b[38;5;241m.\u001b[39mgaussian_filter(im, sigma\u001b[38;5;241m=\u001b[39m\u001b[38;5;241m28\u001b[39m \u001b[38;5;241m/\u001b[39m (\u001b[38;5;241m4.\u001b[39m \u001b[38;5;241m*\u001b[39m \u001b[38;5;241m3\u001b[39m)) \u001b[38;5;66;03m# puts the array through an image filter that \u001b[39;00m\n\u001b[1;32m     50\u001b[0m                                                         \u001b[38;5;66;03m# blurs the 0's and 1's together\u001b[39;00m\n",
      "File \u001b[0;32m~/anaconda3/lib/python3.11/site-packages/numpy/__init__.py:305\u001b[0m, in \u001b[0;36m__getattr__\u001b[0;34m(attr)\u001b[0m\n\u001b[1;32m    300\u001b[0m     warnings\u001b[38;5;241m.\u001b[39mwarn(\n\u001b[1;32m    301\u001b[0m         \u001b[38;5;124mf\u001b[39m\u001b[38;5;124m\"\u001b[39m\u001b[38;5;124mIn the future `np.\u001b[39m\u001b[38;5;132;01m{\u001b[39;00mattr\u001b[38;5;132;01m}\u001b[39;00m\u001b[38;5;124m` will be defined as the \u001b[39m\u001b[38;5;124m\"\u001b[39m\n\u001b[1;32m    302\u001b[0m         \u001b[38;5;124m\"\u001b[39m\u001b[38;5;124mcorresponding NumPy scalar.\u001b[39m\u001b[38;5;124m\"\u001b[39m, \u001b[38;5;167;01mFutureWarning\u001b[39;00m, stacklevel\u001b[38;5;241m=\u001b[39m\u001b[38;5;241m2\u001b[39m)\n\u001b[1;32m    304\u001b[0m \u001b[38;5;28;01mif\u001b[39;00m attr \u001b[38;5;129;01min\u001b[39;00m __former_attrs__:\n\u001b[0;32m--> 305\u001b[0m     \u001b[38;5;28;01mraise\u001b[39;00m \u001b[38;5;167;01mAttributeError\u001b[39;00m(__former_attrs__[attr])\n\u001b[1;32m    307\u001b[0m \u001b[38;5;66;03m# Importing Tester requires importing all of UnitTest which is not a\u001b[39;00m\n\u001b[1;32m    308\u001b[0m \u001b[38;5;66;03m# cheap import Since it is mainly used in test suits, we lazy import it\u001b[39;00m\n\u001b[1;32m    309\u001b[0m \u001b[38;5;66;03m# here to save on the order of 10 ms of import time for most users\u001b[39;00m\n\u001b[1;32m    310\u001b[0m \u001b[38;5;66;03m#\u001b[39;00m\n\u001b[1;32m    311\u001b[0m \u001b[38;5;66;03m# The previous way Tester was imported also had a side effect of adding\u001b[39;00m\n\u001b[1;32m    312\u001b[0m \u001b[38;5;66;03m# the full `numpy.testing` namespace\u001b[39;00m\n\u001b[1;32m    313\u001b[0m \u001b[38;5;28;01mif\u001b[39;00m attr \u001b[38;5;241m==\u001b[39m \u001b[38;5;124m'\u001b[39m\u001b[38;5;124mtesting\u001b[39m\u001b[38;5;124m'\u001b[39m:\n",
      "\u001b[0;31mAttributeError\u001b[0m: module 'numpy' has no attribute 'int'.\n`np.int` was a deprecated alias for the builtin `int`. To avoid this error in existing code, use `int` by itself. Doing this will not modify any behavior and is safe. When replacing `np.int`, you may wish to use e.g. `np.int64` or `np.int32` to specify the precision. If you wish to review your current use, check the release note link for additional information.\nThe aliases was originally deprecated in NumPy 1.20; for more details and guidance see the original release note at:\n    https://numpy.org/devdocs/release/1.20.0-notes.html#deprecations"
     ]
    },
    {
     "data": {
      "image/png": "[encoded data removed]",
      "text/plain": [
       "<Figure size 800x800 with 6 Axes>"
      ]
     },
     "metadata": {},
     "output_type": "display_data"
    }
   ],
   "source": [
    "import matplotlib.pyplot as plt\n",
    "numbers = np.arange(100,1001,100)\n",
    "\n",
    "# Simple plot\n",
    "test_fig_1 = plt.figure()\n",
    "plt.plot(numbers)\n",
    "plt.xlabel('x-axis')\n",
    "plt.ylabel('y-axis')\n",
    "plt.title('Numbers')\n",
    "plt.show()\n",
    "print('Figure 1: an example of a simple plot. X axis shows the index of each element, the Y axis shows increasing numbers.')\n",
    "\n",
    "# a little more complex plot\n",
    "\n",
    "indices = np.arange(5,15)\n",
    "plt.scatter(indices,numbers)\n",
    "plt.xlabel('x-axis')\n",
    "plt.ylabel('y-axis')\n",
    "plt.title('Numbers')\n",
    "plt.show()\n",
    "print('Figure 2: an example of a slightly more complex plot, where we explicitely set the values on the X axis. X axis shows the index of each element, the Y axis shows increasing numbers.')\n",
    "\n",
    "\n",
    "# an incredibly unnecessary complex plot\n",
    "import seaborn as sns # nicer graphics\n",
    "sns.set_style('darkgrid')\n",
    "\n",
    "fig,ax = plt.subplots(3,2,figsize=(8,8)) # create 3 rows of 2 columns of subplots\n",
    "ax = ax.ravel()\n",
    "\n",
    "x = np.random.normal(0.1, 1,10) #10 numbers with a mean of 0.1 and a sigma of 1\n",
    "y = np.random.normal(1, 0.1,10) #10 numbers with a mean of 1 and a sigma of 0.1\n",
    "\n",
    "ax[0].plot(x,y,'k.') # k means black and . means it should plot dots. Similarly, 'r-' results in a red line and \n",
    "                    # 'b--' would result in a blue checkered line.\n",
    "ax[0].set_title('Random black dots using x and y as coords')\n",
    "ax[0].set_ylabel('Row 0 of subplots')\n",
    "ax[1].bar(range(0,10),x,color='orange') #the first argument tells plt where to place the bars, so range(0,10) just puts them on 0,..,9\n",
    "ax[1].set_title('Vertical bars of x values')\n",
    "\n",
    "ax[2].barh(range(0,10),y,color='darkblue')\n",
    "ax[2].set_title('Horizontal bars of y values')\n",
    "ax[2].set_ylabel('Row 1 of subplots')\n",
    "from scipy import ndimage \n",
    "\n",
    "im = np.zeros((28, 28)) # creates an 28x28 array of zeros\n",
    "points = 28 * np.random.random((2, 3 ** 2)) # creates 28 random (x,y) pairs that we will use as indices\n",
    "im[(points[0]).astype(np.int), (points[1]).astype(np.int)] = 1 # sets the value at those indices to 1\n",
    "im = ndimage.gaussian_filter(im, sigma=28 / (4. * 3)) # puts the array through an image filter that \n",
    "                                                        # blurs the 0's and 1's together\n",
    "blobs = (im > im.mean())*255 # seperates them back into 0's and 1's after blurring \n",
    "\n",
    "ax[3].imshow(blobs,cmap='gray') # plots the array as an image, where each pixel corresponds to a 0 or 1 in our array\n",
    "ax[3].set_title('Blobs in black and white')\n",
    "\n",
    "ax[4].hist(im.ravel(), bins=12,color='green',rwidth=0.9) # plot the gray values from the array in a histogram with 12 bins\n",
    "ax[4].set_title('Distribution of gray values')\n",
    "ax[4].set_ylabel('Row 2 of subplots')\n",
    "ax[4].set_xlabel('Column 0 of subplots')\n",
    "ax[5].hist(im.ravel(),bins=12, cumulative=True, color='orange',rwidth=0.9,alpha=0.8,label='summed') # plot a see through \n",
    "                                                                                # cumulative histogram with alpha\n",
    "ax[5].hist(im.ravel(), bins=12,color='green',rwidth=0.9,alpha=0.7,label='values') # plot the gray values from the array in a histogram with 12 bins\n",
    "ax[5].set_title('(Cumulative) Distribution of gray values')\n",
    "ax[5].legend()\n",
    "ax[5].set_xlabel('Column 1 of subplots')\n",
    "plt.tight_layout() # makes sure everything fits without overlapping -- try running this cell without this to see the effect\n",
    "\n",
    "plt.show()\n",
    "\n",
    "print('Figure 3: an example of a complex plot, which showcases some neat pretty stuff that matplotlib can do! Seaborn is a library that you can use to make your plots look nicer. Subplots are used to create multiple plots within the same figure. First I plotted some random black dots, and then I used the bar functions to plot the same information but more complicated. imshow can be used to plot your array as an image for easy inspection. Here, I created an image of blobs using random numbers and a gaussian blur filter. Histograms are nice for checking distributions, for instance, the distribution of gray values in an image containing blobs!')\n",
    "sns.reset_orig()"
   ]
  },
  {
   "cell_type": "markdown",
   "metadata": {
    "deletable": false,
    "editable": false,
    "nbgrader": {
     "cell_type": "markdown",
     "checksum": "1a97427c2d440625ddb9da6504bf7eee",
     "grade": false,
     "grade_id": "cell-a40f10faf84f38f2",
     "locked": true,
     "schema_version": 3,
     "solution": false,
     "task": false
    }
   },
   "source": [
    "## 1.3 Principal Component Analysis\n",
    "\n",
    "**1.3.1** many experimenters have a habit of using Microsoft Excel as their tool to record measurements from experiments. Fortunately Python can read Excel files. Various methods exist, of which the use of the Python library Pandas is arguably one of the easiest for the purpose of Data Mining.\n",
    "\n",
    "The data used in this exercise is based on data from a chemical sensor obtained from the NanoNose project[1]. The data contains 8 sensors, named by the letters A-H, measuring the concentration of Water, Ethanol, Acetone, Heptane and Pentanol injected into a small gas chamber. The data will be represented in matrix form such that each column contains the 8 sensor measurements (i.e., sensor A-H) of the various compounds injected into the gas chamber.\n",
    "> a. (0.2 points) Inspect the nanonose.xls file in the `data` folder and make sure you understand how the data is stored in Excel.\n",
    "\n",
    "> *Load the data in python using the Pandas library (use the `read_excel()` function). Make sure you read some of the Pandas documentation! Especially (column) slicing, (row) indexing and dropping are useful commands to get the correct data here.*\n",
    "\n",
    "> *Make sure to inspect the data first. You should cut out some rows and columns! You can easily inspect the structure of the Pandas dataframe by printing using the `head()` function.*\n",
    "\n",
    "> *You should see the 8 columns named A-H and the first 5 rows by printing `head()`.*\n",
    "\n",
    "> *Finally call the `.values` attribute to cast the Pandas dataframe to a NumPy array called `X`. Make sure that all columns and rows containing numerical data are included in your final answer. It would be a good idea to perform a sanity check by checking whether the Pandas dataframe, and the NumPy array have the same number of rows and columns.* \n",
    "\n",
    "> *We will reproduce your results on our machines, you are therefore required to use correct procedures for specifying the path in which files are located. For all exercises, you are required to use relative paths, in this case: `./data/nanonose.xls`.*"
   ]
  },
  {
   "cell_type": "code",
   "execution_count": 3,
   "metadata": {
    "deletable": false,
    "nbgrader": {
     "cell_type": "code",
     "checksum": "d4af73cf99603bece9862134fb62ad19",
     "grade": false,
     "grade_id": "cell-81d79ba2697a6520",
     "locked": false,
     "schema_version": 3,
     "solution": true,
     "task": false
    }
   },
   "outputs": [
    {
     "name": "stdout",
     "output_type": "stream",
     "text": [
      "[[ 9.55000000e+01  2.10000000e+01  6.00000000e+00  1.19423077e+01\n",
      "   6.41346154e+01  2.14985600e+01  5.56784000e+00  1.17413500e+00]\n",
      " [ 9.45000000e+01  1.70000000e+01  5.00000000e+00  5.48461538e+00\n",
      "   6.32057692e+01  1.96585600e+01  4.96800000e+00  1.88344390e+00]\n",
      " [ 9.20000000e+01  1.60000000e+01  3.00000000e+00  1.10576923e+01\n",
      "   6.25865385e+01  1.98131200e+01  5.19248000e+00  5.64834677e-01]\n",
      " [ 5.30000000e+01  7.50000000e+00  2.50000000e+00  3.53846154e+00\n",
      "   3.51634615e+01  6.87620690e+00  1.64172414e+00  1.44654088e-01]\n",
      " [ 5.10000000e+01  7.50000000e+00  2.50000000e+00  4.86538462e+00\n",
      "   3.40576923e+01  6.75724138e+00  1.61396552e+00  5.96627756e-02]\n",
      " [ 5.00000000e+01  8.00000000e+00  2.50000000e+00  3.98076923e+00\n",
      "   3.36153846e+01  6.77310345e+00  1.77655172e+00  7.55088641e-02]\n",
      " [ 2.75000000e+01  4.00000000e+00  1.50000000e+00  2.20000000e+00\n",
      "   1.83557692e+01  2.79833333e+00  5.63500000e-01  3.03830911e-02]\n",
      " [ 2.75000000e+01  4.50000000e+00  1.50000000e+00  2.20000000e+00\n",
      "   1.72500000e+01  2.62966667e+00  8.54833333e-01  0.00000000e+00]\n",
      " [ 2.70000000e+01  4.00000000e+00  1.50000000e+00  3.10000000e+00\n",
      "   1.74711538e+01  2.64500000e+00  6.24833333e-01  0.00000000e+00]\n",
      " [ 1.35000000e+01  1.50000000e+00  0.00000000e+00  1.76923077e+00\n",
      "   9.73076923e+00  1.11406250e+00  4.95937500e-01  0.00000000e+00]\n",
      " [ 1.30000000e+01  2.00000000e+00  5.00000000e-01  2.65384615e+00\n",
      "   1.06153846e+01  1.07812500e+00  4.52812500e-01  0.00000000e+00]\n",
      " [ 1.32500000e+01  2.50000000e+00  2.50000000e-01  2.65384615e+00\n",
      "   8.84615385e+00  4.24062500e-01  1.15000000e-01  0.00000000e+00]\n",
      " [ 4.50000000e+00  8.00000000e-01  0.00000000e+00  4.42307692e-01\n",
      "   2.43269231e+00  6.51666667e-01  5.29000000e-01  0.00000000e+00]\n",
      " [ 4.00000000e+00  8.00000000e-01  0.00000000e+00  8.84615385e-01\n",
      "   3.67115385e+00  4.06333333e-01  3.48833333e-01  0.00000000e+00]\n",
      " [ 3.70000000e+00  5.00000000e-01  0.00000000e+00  1.32692308e+00\n",
      "   3.75961538e+00  3.29666667e-01  2.53000000e-01  0.00000000e+00]\n",
      " [ 1.50000000e+00  0.00000000e+00  0.00000000e+00  0.00000000e+00\n",
      "   1.10769231e+00  1.32324324e-01  1.44000000e-01  0.00000000e+00]\n",
      " [ 1.50000000e+00  0.00000000e+00  0.00000000e+00  0.00000000e+00\n",
      "   1.32923077e+00 -6.22702703e-02  5.44864865e-02  0.00000000e+00]\n",
      " [ 1.50000000e+00  0.00000000e+00  0.00000000e+00  0.00000000e+00\n",
      "   1.50646154e+00  3.50270270e-01  5.48756757e-01  0.00000000e+00]\n",
      " [ 2.30000000e+01  5.10000000e+01  2.50000000e+01  9.60000000e+01\n",
      "   1.42500000e+02  6.95290909e+01  3.89518182e+01  3.54265994e+01]\n",
      " [ 2.35000000e+01  6.10000000e+01  3.02000000e+01  1.29000000e+02\n",
      "   1.42000000e+02  6.55581818e+01  3.92827273e+01  3.54823433e+01]\n",
      " [ 2.20000000e+01  6.35000000e+01  3.05000000e+01  1.49000000e+02\n",
      "   1.40500000e+02  6.43109091e+01  3.94481818e+01  3.61791677e+01]\n",
      " [ 1.25000000e+01  5.05000000e+01  2.00000000e+01  6.00000000e+01\n",
      "   9.45000000e+01  3.01714286e+01  3.17280000e+01  1.82377383e+01]\n",
      " [ 1.25000000e+01  5.10000000e+01  2.05000000e+01  5.20000000e+01\n",
      "   9.35000000e+01  3.05142857e+01  3.14811429e+01  1.82481333e+01]\n",
      " [ 1.20000000e+01  5.00000000e+01  1.80000000e+01  5.00000000e+01\n",
      "   8.95000000e+01  2.82788571e+01  3.08777143e+01  1.82688110e+01]\n",
      " [ 6.00000000e+00  3.35000000e+01  1.25000000e+01  2.60000000e+01\n",
      "   6.55000000e+01  1.37585455e+01  2.19796364e+01  9.99343139e+00]\n",
      " [ 6.00000000e+00  3.20000000e+01  1.15000000e+01  2.80000000e+01\n",
      "   6.30000000e+01  1.40334545e+01  2.22152727e+01  1.03029457e+01]\n",
      " [ 7.50000000e+00  3.15000000e+01  1.15000000e+01  2.50000000e+01\n",
      "   6.10000000e+01  1.41381818e+01  2.18029091e+01  9.64016736e+00]\n",
      " [ 5.00000000e+00  2.35000000e+01  8.20000000e+00  1.06875000e+01\n",
      "   3.79687500e+01  5.95862069e+00  1.49275862e+01  5.55704698e+00]\n",
      " [ 5.50000000e+00  2.40000000e+01  9.00000000e+00  1.06875000e+01\n",
      "   3.76875000e+01  6.20689655e+00  1.45986207e+01  4.58681948e+00]\n",
      " [ 5.25000000e+00  2.37500000e+01  8.60000000e+00  1.06875000e+01\n",
      "   3.85312500e+01  5.46206897e+00  1.38289655e+01  5.16295105e+00]\n",
      " [ 5.00000000e-01  1.18000000e+01  3.50000000e+00  3.37500000e+00\n",
      "   2.27812500e+01  2.76000000e+00  1.01200000e+01  3.28943338e+00]\n",
      " [ 1.00000000e+00  1.23000000e+01  3.30000000e+00  3.37500000e+00\n",
      "   2.30625000e+01  2.54666667e+00  9.94000000e+00  3.35397758e+00]\n",
      " [ 1.00000000e+00  1.14000000e+01  3.50000000e+00  3.15000000e+00\n",
      "   2.27812500e+01  2.64000000e+00  9.89333333e+00  3.35946991e+00]\n",
      " [ 0.00000000e+00  5.50000000e+00  1.50000000e+00  1.68750000e+00\n",
      "   1.20937500e+01  9.39705882e-01  5.74411765e+00  1.73898305e+00]\n",
      " [ 0.00000000e+00  5.70000000e+00  1.50000000e+00  1.68750000e+00\n",
      "   1.23750000e+01  1.46911765e+00  5.85661765e+00  1.52228571e+00]\n",
      " [ 0.00000000e+00  5.50000000e+00  1.80000000e+00  2.25000000e+00\n",
      "   1.26562500e+01  1.20441176e+00  5.69779412e+00  1.91061453e+00]\n",
      " [ 1.55000000e+01  8.45000000e+01  4.25000000e+01  2.35529412e+02\n",
      "   1.22903529e+02  7.43288000e+01  5.51096000e+01  2.01329560e+02]\n",
      " [ 1.40000000e+01  1.10000000e+02  4.40000000e+01  1.90992941e+02\n",
      "   1.17764706e+02  7.05016000e+01  5.39032000e+01  2.07830304e+02]\n",
      " [ 1.60000000e+01  1.28000000e+02  5.10000000e+01  1.41317647e+02\n",
      "   1.10484706e+02  6.96800000e+01  5.41008000e+01  2.06679063e+02]\n",
      " [ 6.00000000e+00  9.10000000e+01  3.30000000e+01  8.94348894e+01\n",
      "   7.78083538e+01  3.17998841e+01  4.07785507e+01  8.86087950e+01]\n",
      " [ 7.00000000e+00  8.75000000e+01  3.00000000e+01  1.14476658e+02\n",
      "   7.82555283e+01  3.15466667e+01  4.04778551e+01  9.00221851e+01]\n",
      " [ 7.00000000e+00  8.00000000e+01  3.00000000e+01  1.16265356e+02\n",
      "   7.19950860e+01  3.14517101e+01  4.03987246e+01  9.02717403e+01]\n",
      " [ 3.00000000e+00  6.80000000e+01  2.10000000e+01  6.66082474e+01\n",
      "   5.30051546e+01  1.48127778e+01  2.92817778e+01  4.43312154e+01]\n",
      " [ 3.00000000e+00  6.30000000e+01  2.00000000e+01  8.34948454e+01\n",
      "   5.91030928e+01  1.53790000e+01  2.95648889e+01  4.38936765e+01]\n",
      " [ 4.00000000e+00  6.40000000e+01  2.00000000e+01  8.53711340e+01\n",
      "   5.58195876e+01  1.55610000e+01  2.91756111e+01  4.41229878e+01]\n",
      " [ 2.00000000e+00  4.90000000e+01  1.30000000e+01  3.60849057e+01\n",
      "   3.34787736e+01  6.04340659e+00  1.73082418e+01  2.03275632e+01]\n",
      " [ 1.75000000e+00  5.15000000e+01  1.55000000e+01  3.60849057e+01\n",
      "   3.40801887e+01  6.07142857e+00  1.75184066e+01  1.88967704e+01]\n",
      " [ 1.50000000e+00  4.75000000e+01  1.30000000e+01  3.60849057e+01\n",
      "   3.35790094e+01  5.90329670e+00  1.72428571e+01  1.79529975e+01]\n",
      " [ 0.00000000e+00  2.90000000e+01  8.00000000e+00  1.66666667e+01\n",
      "   1.72916667e+01  2.29302326e+00  1.19691860e+01  9.60524120e+00]\n",
      " [ 1.00000000e+00  2.70000000e+01  8.00000000e+00  2.33333333e+01\n",
      "   1.79166667e+01  2.42151163e+00  1.18505814e+01  8.66533519e+00]\n",
      " [ 1.00000000e+00  2.60000000e+01  8.00000000e+00  1.50000000e+01\n",
      "   1.72916667e+01  2.52034884e+00  1.18851744e+01  8.94417692e+00]\n",
      " [ 0.00000000e+00  1.40000000e+01  4.00000000e+00  8.67346939e+00\n",
      "   7.80612245e+00  6.02906977e-01  6.45406977e+00  3.93205638e+00]\n",
      " [ 0.00000000e+00  1.30000000e+01  4.00000000e+00  8.67346939e+00\n",
      "   8.23979592e+00  8.00581395e-01  6.94331395e+00  3.79741065e+00]\n",
      " [ 0.00000000e+00  1.40000000e+01  4.00000000e+00  8.67346939e+00\n",
      "   7.37244898e+00  1.06744186e+00  6.57267442e+00  4.20084930e+00]\n",
      " [ 8.50000000e+00  8.50000000e+00  1.25000000e+01  1.60000000e+01\n",
      "   1.50000000e+00  8.66047826e+00  1.47866087e+01  1.00545957e+02]\n",
      " [ 8.50000000e+00  8.50000000e+00  1.25000000e+01  1.32500000e+01\n",
      "   2.00000000e+00  7.15734783e+00  1.34757391e+01  8.65678464e+01]\n",
      " [ 3.00000000e+00  4.00000000e+00  1.30000000e+01  1.05000000e+01\n",
      "   2.00000000e+00  7.92639130e+00  1.32616304e+01  1.15995926e+02]\n",
      " [ 2.50000000e+00  5.50000000e+00  9.50000000e+00  8.00000000e+00\n",
      "   1.50000000e+00  3.80193396e+00  7.34313679e+00  1.19542105e+01]\n",
      " [ 1.00000000e+00 -5.00000000e-01  8.00000000e+00  7.00000000e+00\n",
      "   1.25000000e+00  3.53646226e+00  7.10610849e+00  1.25681188e+01]\n",
      " [ 2.50000000e+00  5.00000000e-01  9.50000000e+00  1.00000000e+01\n",
      "   1.25000000e+00  3.63127358e+00  7.06344340e+00  1.18384824e+01]\n",
      " [ 5.00000000e-01  5.00000000e-01  5.50000000e+00  7.00000000e+00\n",
      "   1.75000000e+00  1.46181818e+00  3.39415909e+00  1.74192666e+00]\n",
      " [ 7.50000000e-01  1.25000000e+00  5.75000000e+00  7.00000000e+00\n",
      "   1.50000000e+00  1.86381818e+00  4.06568182e+00  2.80991285e+00]\n",
      " [ 1.50000000e+00  1.50000000e+00  6.00000000e+00  7.00000000e+00\n",
      "   1.75000000e+00  1.71763636e+00  3.85554545e+00  3.02606676e+00]\n",
      " [ 1.00000000e+00  5.00000000e-01  4.00000000e+00  3.00000000e+00\n",
      "   1.00000000e+00  5.23333333e-01  1.73746667e+00  1.41000000e+00]\n",
      " [ 1.50000000e+00  1.00000000e+00  4.50000000e+00  3.00000000e+00\n",
      "   1.00000000e+00  5.58222222e-01  1.61884444e+00  1.48000000e+00]\n",
      " [ 1.00000000e+00  0.00000000e+00  3.80000000e+00  2.00000000e+00\n",
      "   1.00000000e+00  4.53555556e-01  1.72351111e+00  1.30000000e+00]\n",
      " [ 5.00000000e-01  0.00000000e+00  2.00000000e+00  0.00000000e+00\n",
      "   5.00000000e-01  8.79538905e-02  8.53152738e-01  6.50000000e-01]\n",
      " [ 5.00000000e-01  0.00000000e+00  2.00000000e+00  0.00000000e+00\n",
      "   5.00000000e-01  1.58317003e-01  9.14720461e-01  5.50000000e-01]\n",
      " [ 5.00000000e-01  0.00000000e+00  2.00000000e+00  0.00000000e+00\n",
      "   0.00000000e+00  2.81452450e-01  1.02906052e+00  6.90000000e-01]\n",
      " [ 0.00000000e+00  0.00000000e+00  5.00000000e-01  0.00000000e+00\n",
      "   0.00000000e+00  1.04666667e-01  8.02444444e-02  3.00000000e-01]\n",
      " [ 0.00000000e+00  0.00000000e+00  1.00000000e+00  0.00000000e+00\n",
      "   0.00000000e+00  1.53511111e-01  3.62844444e-01  3.30000000e-01]\n",
      " [ 0.00000000e+00  0.00000000e+00  1.50000000e+00  0.00000000e+00\n",
      "   0.00000000e+00  6.97777778e-02  3.66333333e-01  2.80000000e-01]\n",
      " [ 3.20000000e+00  1.60000000e+01  2.05000000e+01 -3.00000000e+00\n",
      "   9.75000000e+00  6.79430769e+01  3.66046154e+01  3.31470588e+01]\n",
      " [ 2.70000000e+00  1.65000000e+01  2.02000000e+01 -3.00000000e+00\n",
      "   7.00000000e+00  6.22676923e+01  2.94376923e+01  3.03388430e+01]\n",
      " [ 2.20000000e+00  1.44000000e+01  2.04000000e+01 -3.00000000e+00\n",
      "   6.62500000e+00  6.20523077e+01  2.94484615e+01  2.51009036e+01]\n",
      " [ 1.85000000e+00  6.05000000e+00  1.45000000e+01 -1.50000000e+00\n",
      "   3.12500000e+00  4.50240000e+01  3.80352000e+01  5.43598055e+00]\n",
      " [ 1.30000000e+00  6.20000000e+00  1.42000000e+01 -1.50000000e+00\n",
      "   3.12500000e+00  4.42176000e+01  3.77280000e+01  6.05000000e+00]\n",
      " [ 2.00000000e+00  6.00000000e+00  1.37000000e+01 -1.50000000e+00\n",
      "   3.25000000e+00  4.42176000e+01  3.79392000e+01  6.27411168e+00]\n",
      " [ 1.10000000e+00  3.45000000e+00  9.80000000e+00 -7.50000000e-01\n",
      "   1.75000000e+00  2.08360417e+01  2.99665625e+01  0.00000000e+00]\n",
      " [ 8.00000000e-01  3.40000000e+00  9.30000000e+00 -1.00000000e+00\n",
      "   1.75000000e+00  2.14797917e+01  3.09429167e+01  0.00000000e+00]\n",
      " [ 7.00000000e-01  3.85000000e+00  9.60000000e+00 -1.00000000e+00\n",
      "   1.87500000e+00  2.18875000e+01  3.00953125e+01  0.00000000e+00]\n",
      " [ 4.16000000e-01  7.90400000e+00  1.85120000e+01 -5.00000000e-01\n",
      "   2.65000000e+00  2.88926444e+01  4.15536333e+01  2.08714777e+00]\n",
      " [ 4.16000000e-01  5.61600000e+00  1.58080000e+01 -5.00000000e-01\n",
      "   1.62500000e+00  2.97853111e+01  4.29075111e+01  4.61773463e+00]\n",
      " [ 4.16000000e-01  5.40800000e+00  1.49760000e+01 -5.00000000e-01\n",
      "   2.30000000e+00  3.03506667e+01  4.17321667e+01  1.76707965e+00]\n",
      " [ 1.92000000e-01  1.72800000e+00  8.64000000e+00 -2.50000000e-01\n",
      "   1.30000000e+00  5.78560000e+00  1.42144000e+01  0.00000000e+00]\n",
      " [ 1.92000000e-01  3.07200000e+00  9.12000000e+00 -2.50000000e-01\n",
      "   1.30000000e+00  4.78720000e+00  1.12192000e+01  0.00000000e+00]\n",
      " [ 1.92000000e-01  2.49600000e+00  8.73600000e+00 -2.50000000e-01\n",
      "   1.12500000e+00  5.06880000e+00  1.20448000e+01  0.00000000e+00]\n",
      " [ 0.00000000e+00  1.28750000e+00  5.57916667e+00  0.00000000e+00\n",
      "   6.50000000e-01  1.84541667e+00  6.69500000e+00  0.00000000e+00]\n",
      " [ 0.00000000e+00  1.07291667e+00  4.93541667e+00  0.00000000e+00\n",
      "   8.00000000e-01  2.28888889e+00  7.02402778e+00  0.00000000e+00]\n",
      " [ 0.00000000e+00  1.71666667e+00  6.43750000e+00  0.00000000e+00\n",
      "   8.00000000e-01  1.94555556e+00  7.06694444e+00  0.00000000e+00]]\n"
     ]
    }
   ],
   "source": [
    "import pandas as pd\n",
    "import numpy as np\n",
    "X = pd.read_excel('./data/nanonose.xls').drop(0)\n",
    "X = X[[\"A\",\"B\",\"C\",\"D\",\"E\",\"F\",\"G\",\"H\"]].values\n",
    "\n",
    "print(X)"
   ]
  },
  {
   "cell_type": "code",
   "execution_count": 2,
   "metadata": {
    "deletable": false,
    "editable": false,
    "nbgrader": {
     "cell_type": "code",
     "checksum": "f6fb559562ea314bdf00f9d3be8fad9b",
     "grade": true,
     "grade_id": "cell-a1801991fc2465c3",
     "locked": true,
     "points": 20,
     "schema_version": 3,
     "solution": false,
     "task": false
    }
   },
   "outputs": [
    {
     "data": {
      "text/plain": [
       "'DO NOT MODIFY THIS CELL'"
      ]
     },
     "execution_count": 2,
     "metadata": {},
     "output_type": "execute_result"
    }
   ],
   "source": [
    "\"\"\"Checks whether 1.2.1.a output is correct\"\"\"\n",
    "\"\"\"DO NOT MODIFY THIS CELL\"\"\""
   ]
  },
  {
   "cell_type": "markdown",
   "metadata": {
    "deletable": false,
    "editable": false,
    "nbgrader": {
     "cell_type": "markdown",
     "checksum": "0440d5524aed089f652f03a7d5a082c6",
     "grade": false,
     "grade_id": "cell-c119e47975490fb8",
     "locked": true,
     "schema_version": 3,
     "solution": false,
     "task": false
    }
   },
   "source": [
    "> b. (0.4 points) The data resides in what can be seen as an 8-dimensional space. Each dimension (column), corresponds to one of the 8 NanoNose sensors. Multidimensional (>3) data is hard to visualize, as we are unable to plot that many dimensions simultaneously.\n",
    "\n",
    "> Using the `matplotlib.pyplot` library, plot the following 4 attributes combinations against each other on the X-axis vs Y-axis respectively: 1: A vs. B, 2: C vs, D, 3: A vs. E, 4: B vs. H . As you are visualizing separate points with no sequential relationship over the X-axis, you should create a **scatter** plot.\n",
    "\n",
    "> Every figure needs to have assigned a set variable name in order for our automatic grading procedure. Using `plot_name = plt.figure()` before starting the plotting procedure, you can assign a figure a name. (see the first figure in the example) Do not forget to call `plt.show()` when you're done plotting and modifying your figure.\n",
    "\n",
    "> Use the following names for your plots: `scatter_plot_AB`, `scatter_plot_CD`, `scatter_plot_AE`, and `scatter_plot_BH` for the 4 respective plots.\n",
    "\n",
    "> *Do not forget to label your axes and add a figure description!*"
   ]
  },
  {
   "cell_type": "code",
   "execution_count": 5,
   "metadata": {
    "deletable": false,
    "nbgrader": {
     "cell_type": "code",
     "checksum": "e112541537923d05a05ec90caddef687",
     "grade": false,
     "grade_id": "cell-e91061559263c48f",
     "locked": false,
     "schema_version": 3,
     "solution": true,
     "task": false
    }
   },
   "outputs": [
    {
     "data": {
      "image/png": "[encoded data removed]",
      "text/plain": [
       "<Figure size 640x480 with 1 Axes>"
      ]
     },
     "metadata": {},
     "output_type": "display_data"
    },
    {
     "data": {
      "image/png": "[encoded data removed]",
      "text/plain": [
       "<Figure size 640x480 with 1 Axes>"
      ]
     },
     "metadata": {},
     "output_type": "display_data"
    },
    {
     "data": {
      "image/png": "[encoded data removed]",
      "text/plain": [
       "<Figure size 640x480 with 1 Axes>"
      ]
     },
     "metadata": {},
     "output_type": "display_data"
    },
    {
     "data": {
      "image/png": "[encoded data removed]",
      "text/plain": [
       "<Figure size 640x480 with 1 Axes>"
      ]
     },
     "metadata": {},
     "output_type": "display_data"
    }
   ],
   "source": [
    "import matplotlib.pyplot as plt\n",
    "\n",
    "scatter_plot_AB = plt.figure()\n",
    "#make your plot here\n",
    "plt.title('scatter_plot_AB')\n",
    "plt.xlabel('A')\n",
    "plt.ylabel('B')\n",
    "plt.scatter(X[0], X[1])\n",
    "\n",
    "plt.show()\n",
    "\n",
    "scatter_plot_CD = plt.figure()\n",
    "#make your plot here\n",
    "plt.title('scatter_plot_CD')\n",
    "plt.xlabel('C')\n",
    "plt.ylabel('D')\n",
    "plt.scatter(X[2], X[3])\n",
    "plt.show()\n",
    "\n",
    "scatter_plot_AE = plt.figure()\n",
    "#make your plot here\n",
    "plt.title('scatter_plot_AE')\n",
    "plt.xlabel('A')\n",
    "plt.ylabel('E')\n",
    "plt.scatter(X[0], X[4])\n",
    "plt.show()\n",
    "\n",
    "scatter_plot_BH = plt.figure()\n",
    "plt.title('scatter_plot_BH')\n",
    "plt.xlabel('B')\n",
    "plt.ylabel('H')\n",
    "plt.scatter(X[1], X[6])\n",
    "plt.show()"
   ]
  },
  {
   "cell_type": "code",
   "execution_count": 4,
   "metadata": {
    "deletable": false,
    "editable": false,
    "nbgrader": {
     "cell_type": "code",
     "checksum": "8299f12e8bd6b182e2726a7b22df2465",
     "grade": true,
     "grade_id": "cell-f1e9518e67c5c19e",
     "locked": true,
     "points": 40,
     "schema_version": 3,
     "solution": false,
     "task": false
    }
   },
   "outputs": [
    {
     "data": {
      "text/plain": [
       "'DO NOT MODIFY THIS CELL'"
      ]
     },
     "execution_count": 4,
     "metadata": {},
     "output_type": "execute_result"
    }
   ],
   "source": [
    "\"\"\"Checks whether 1.2.1.b. output is correct\"\"\"\n",
    "\"\"\"DO NOT MODIFY THIS CELL\"\"\""
   ]
  },
  {
   "cell_type": "markdown",
   "metadata": {
    "deletable": false,
    "editable": false,
    "nbgrader": {
     "cell_type": "markdown",
     "checksum": "8989709323fb1d72e20797f7f60becad",
     "grade": false,
     "grade_id": "cell-d697e9e95c9824d3",
     "locked": true,
     "schema_version": 3,
     "solution": false,
     "task": false
    }
   },
   "source": [
    "\n",
    "**1.3.2** Principal Component Analysis, more commonly known as PCA, can be used to visualize high dimensional data. \n",
    "\n",
    "> a. (1 point) Explain what PCA is and when it can be used. Make sure to provide an in-depth explanation and note what the drawbacks and limitations are."
   ]
  },
  {
   "cell_type": "markdown",
   "metadata": {
    "deletable": false,
    "nbgrader": {
     "cell_type": "markdown",
     "checksum": "f67e085b5500de6f976ca1ba4be65485",
     "grade": true,
     "grade_id": "cell-05fe2e27477a6327",
     "locked": false,
     "points": 100,
     "schema_version": 3,
     "solution": true,
     "task": false
    }
   },
   "source": [
    "PCA is a way of reducing dimensionality of datasets contain a high amount of features per observation.When you have a High amount of features per observation it usually means that you have a large amount of dimensionality in your dataset. One of the big advantages of PCA is that it makes datasets with high dimensionality more interpretable. The largest downside to PCA is that it can lead to oversimplification of the dataset and it can be harder to find outliers or anomolies."
   ]
  },
  {
   "cell_type": "markdown",
   "metadata": {
    "deletable": false,
    "editable": false,
    "nbgrader": {
     "cell_type": "markdown",
     "checksum": "35036403f158a68cb9a56fd068028a82",
     "grade": false,
     "grade_id": "cell-3d6da0e02bff65cd",
     "locked": true,
     "schema_version": 3,
     "solution": false,
     "task": false
    }
   },
   "source": [
    "To apply PCA we must first mean center the data. Mean centering means that the mean value for an attribute (i.e. a column) is subtracted from all values for that attribute. \n",
    "\n",
    "> b. (0.5 points) Why do we first need to mean center the data before applying PCA?"
   ]
  },
  {
   "cell_type": "markdown",
   "metadata": {
    "deletable": false,
    "nbgrader": {
     "cell_type": "markdown",
     "checksum": "bf10832f2fe642e19eb536ca4c44b6a4",
     "grade": true,
     "grade_id": "cell-1964fdb898b56c12",
     "locked": false,
     "points": 50,
     "schema_version": 3,
     "solution": true,
     "task": false
    }
   },
   "source": [
    "We first need to mean center the data so this ensures that our first Principal Component is equal to the maximum variance of the data. We want this because otherwise resulting components overall mean of the dataset as an important variable and not just the variance withing the dataset"
   ]
  },
  {
   "cell_type": "markdown",
   "metadata": {
    "deletable": false,
    "editable": false,
    "nbgrader": {
     "cell_type": "markdown",
     "checksum": "c934cbb08739105acbb5e7edd7088033",
     "grade": false,
     "grade_id": "cell-1b8624cb34f85270",
     "locked": true,
     "schema_version": 3,
     "solution": false,
     "task": false
    }
   },
   "source": [
    "In practice, applying PCA comes down to a series of matrix operations, this is useful, as matrix operations can be applied with little effort and can be computed in relatively little time.\n",
    "\n",
    "The given data **X** must first be mean centered. This can be easily done by calculating a row vector **μ** containing the mean values of each attribute. Then you can subtract **μ** from **X** (**Y** = **X** - **μ**, where **μ** is subtracted from every row.).\n",
    "\n",
    "Then, the Singular Value Decomposition (or SVD) of **Y**, the now mean centered data, can be calculated. **Y** = **USV**<sup>T</sup>. In practice, this is often done using the `numpy.linalg.svd()` function.\n",
    "\n",
    "Using SVD on **Y** yields 3 matrices **U**, **S** and **V**<sup>T</sup>. These are used to project the data onto specific Principal Components (PCs). \n",
    "\n",
    "The entire dataset can be projected onto the Principal Components by multiplying **Z** = **Y\\*V**, where **Z** indicates the projected data, and **Z[:,0]** indicates the data projected onto the first PC. Alternatively, one could project onto just a subset of all the PCs by indexing in the multiplication. For example: **Z** = **Y\\*V[:,0]** would also yield the projection of the data onto the first PC.\n",
    "\n",
    "_Note that for matrices, the mathematical notation **Y\\*V** denotes the `dot` product between **Y** and **V**! This is different from how you would express it in Python!_\n",
    "\n",
    "> c. (1 point)  Apply PCA (using the aforementioned method) on the Nanonose data and visualize a scatterplot of the projection of the data onto the first two PCs. Name your plot (as a result from `plt.figure()`): `scatter_pc1_pc2`"
   ]
  },
  {
   "cell_type": "code",
   "execution_count": 7,
   "metadata": {
    "deletable": false,
    "nbgrader": {
     "cell_type": "code",
     "checksum": "3d25c0da547eaf711efeb59a31fd51f7",
     "grade": false,
     "grade_id": "cell-527394db5d3ad451",
     "locked": false,
     "schema_version": 3,
     "solution": true,
     "task": false
    }
   },
   "outputs": [
    {
     "data": {
      "image/png": "[encoded data removed]",
      "text/plain": [
       "<Figure size 640x480 with 1 Axes>"
      ]
     },
     "metadata": {},
     "output_type": "display_data"
    }
   ],
   "source": [
    "mu = X.mean(axis = 0)\n",
    "\n",
    "Y = X - mu\n",
    "\n",
    "U, S, Vt = np.linalg.svd(Y)\n",
    "\n",
    "Z = np.dot(Y, np.transpose(Vt))\n",
    "\n",
    "scatter_pc1_pc2 = plt.figure()\n",
    "plt.scatter(Z[:,0], Z[:,1])\n",
    "\n",
    "plt.show()"
   ]
  },
  {
   "cell_type": "code",
   "execution_count": null,
   "metadata": {
    "deletable": false,
    "editable": false,
    "nbgrader": {
     "cell_type": "code",
     "checksum": "a941baa1df257438b2b0eb731879af75",
     "grade": true,
     "grade_id": "cell-d5aae39f7a0ebe28",
     "locked": true,
     "points": 100,
     "schema_version": 3,
     "solution": false,
     "task": false
    }
   },
   "outputs": [],
   "source": [
    "\"\"\"Checks whether 1.2.2.c. output is correct\"\"\"\n",
    "\"\"\"DO NOT MODIFY THIS CELL\"\"\""
   ]
  },
  {
   "cell_type": "markdown",
   "metadata": {
    "deletable": false,
    "editable": false,
    "nbgrader": {
     "cell_type": "markdown",
     "checksum": "54345acd6a8bb36bb4cbe59dba53398f",
     "grade": false,
     "grade_id": "cell-08aa7ceb4431d920",
     "locked": true,
     "schema_version": 3,
     "solution": false,
     "task": false
    }
   },
   "source": [
    "> d. (0.7 point) Alternatively, one could use EigenValue Decomposition, EVD, instead of SVD. What are the similarities and differences between SVD and EVD? Can both be applied for PCA in each case?"
   ]
  },
  {
   "cell_type": "markdown",
   "metadata": {
    "deletable": false,
    "nbgrader": {
     "cell_type": "markdown",
     "checksum": "a2fd8bc8f5ee54db6adff5b9eea25098",
     "grade": true,
     "grade_id": "cell-c1e3de2c79ac20f7",
     "locked": false,
     "points": 70,
     "schema_version": 3,
     "solution": true,
     "task": false
    }
   },
   "source": [
    "EVD and SVD can both be used to reduce dimensionality of large datasets. However EVD is only applicable to square matrices.\n",
    "The output for EVD is a set of eigenvalues and eigenvectors. SVD returns 3 matrices **U**, **S** and **V**<sup>T</sup>. For our ouput EVD is not possible since our matrix is not square."
   ]
  },
  {
   "cell_type": "markdown",
   "metadata": {
    "deletable": false,
    "editable": false,
    "nbgrader": {
     "cell_type": "markdown",
     "checksum": "acb5eda34143ca8d8226f958541a6613",
     "grade": false,
     "grade_id": "cell-fb367642987d9863",
     "locked": true,
     "schema_version": 3,
     "solution": false,
     "task": false
    }
   },
   "source": [
    "PCA attempts to explain as much of the variance in data with as few PCs as possible. The variance explained by each of the PCs **m** can be calculated using the following formula: \n",
    "$$\\rho_m = 1 - \\frac{\\|{Y} - {u}_m s_{mm} {v}_m^T\\|^2_F}{\\|{Y}\\|^2_F} = \\frac{s_{mm}^2}{\\displaystyle \\sum_{m'=1}^M s^2_{m'm'}}$$\n",
    "\n",
    "Which indicates that the variation $\\rho$ for a given **m** can be calculated by dividing the squared singular value of component **m** by the sum of all squared singular values. \n",
    "> e. (1 point) Calculate the row vector $\\rho$ containing all values of $\\rho$ for all PCs **m**, save it to a variable called `rho`. Create a bar plot with the variance explained on the Y axis and the number of the PC on the X axis. Name your plot `variance_bar_plot` using `plt.figure()`"
   ]
  },
  {
   "cell_type": "code",
   "execution_count": 11,
   "metadata": {
    "deletable": false,
    "nbgrader": {
     "cell_type": "code",
     "checksum": "85c9ebc8ec5a5e2e6a57d8c952fea380",
     "grade": false,
     "grade_id": "cell-1c2732c26cc1f29f",
     "locked": false,
     "schema_version": 3,
     "solution": true,
     "task": false
    }
   },
   "outputs": [
    {
     "data": {
      "image/png": "[encoded data removed]",
      "text/plain": [
       "<Figure size 640x480 with 1 Axes>"
      ]
     },
     "metadata": {},
     "output_type": "display_data"
    }
   ],
   "source": [
    "sumsq = sum([x*x for x in S])\n",
    "rho = [(x*x)/sumsq for x in S]\n",
    "\n",
    "variance_bar_plot = plt.figure()\n",
    "\n",
    "plt.bar(range(1,9),rho,color='orange')\n",
    "plt.ylabel(\"variance\")\n",
    "plt.xlabel(\"PCA\")\n",
    "\n",
    "\n",
    "plt.show()"
   ]
  },
  {
   "cell_type": "code",
   "execution_count": null,
   "metadata": {
    "deletable": false,
    "editable": false,
    "nbgrader": {
     "cell_type": "code",
     "checksum": "f57c2d81ce21852860d1670c91aa7918",
     "grade": true,
     "grade_id": "cell-7c637fe375aba981",
     "locked": true,
     "points": 100,
     "schema_version": 3,
     "solution": false,
     "task": false
    }
   },
   "outputs": [],
   "source": [
    "\"\"\"Checks whether 1.2.2.e. output is correct\"\"\"\n",
    "\"\"\"DO NOT MODIFY THIS CELL\"\"\""
   ]
  },
  {
   "cell_type": "markdown",
   "metadata": {
    "deletable": false,
    "editable": false,
    "nbgrader": {
     "cell_type": "markdown",
     "checksum": "faf4e942a77585a0b80588769001d615",
     "grade": false,
     "grade_id": "cell-809a389d65285655",
     "locked": true,
     "schema_version": 3,
     "solution": false,
     "task": false
    }
   },
   "source": [
    "> f. (0.5 points) How much of the variance is explained by the first three PCs? Assign your answer to a variable named `variance_first_3_pcs`. Be sure to calculate this from $\\rho$ directly! Do not multiply by 100 to gain percentages."
   ]
  },
  {
   "cell_type": "code",
   "execution_count": 13,
   "metadata": {
    "deletable": false,
    "nbgrader": {
     "cell_type": "code",
     "checksum": "ac6bd63a80bafbb531f28b45120f7be8",
     "grade": false,
     "grade_id": "cell-77a5c142f0ae477f",
     "locked": false,
     "schema_version": 3,
     "solution": true,
     "task": false
    }
   },
   "outputs": [
    {
     "name": "stdout",
     "output_type": "stream",
     "text": [
      "0.8784504496263417\n"
     ]
    }
   ],
   "source": [
    "# YOUR CODE HERE\n",
    "result = sum(rho[:2])\n",
    "print(result)"
   ]
  },
  {
   "cell_type": "code",
   "execution_count": null,
   "metadata": {
    "deletable": false,
    "editable": false,
    "nbgrader": {
     "cell_type": "code",
     "checksum": "cdcc1576b9112e19e45471ff652b1d0c",
     "grade": true,
     "grade_id": "cell-0f436420fec4f2b3",
     "locked": true,
     "points": 50,
     "schema_version": 3,
     "solution": false,
     "task": false
    }
   },
   "outputs": [],
   "source": [
    "\"\"\"Checks whether 1.2.2.f. output is correct\"\"\"\n",
    "\"\"\"DO NOT MODIFY THIS CELL\"\"\""
   ]
  },
  {
   "cell_type": "markdown",
   "metadata": {
    "deletable": false,
    "editable": false,
    "nbgrader": {
     "cell_type": "markdown",
     "checksum": "ab968978b2ce4a50d32a1750d563e28d",
     "grade": false,
     "grade_id": "cell-ab8f67d134800ad4",
     "locked": true,
     "schema_version": 3,
     "solution": false,
     "task": false
    }
   },
   "source": [
    "The columns of **V** indicate the exact projection of the data onto the PCs. In a way, a PC is nothing other than a linear combination of the original attributes. \n",
    "> g. (0.5 points) Which attributes are primarily represented by the first PC? What would cause an observation to have a large negative/positive projection onto the second principal component?"
   ]
  },
  {
   "cell_type": "code",
   "execution_count": 15,
   "metadata": {
    "deletable": false,
    "nbgrader": {
     "cell_type": "code",
     "checksum": "d4ecb430d90f0ce163844dea9a156745",
     "grade": false,
     "grade_id": "cell-eb548093279a5430",
     "locked": false,
     "schema_version": 3,
     "solution": true,
     "task": false
    }
   },
   "outputs": [
    {
     "name": "stdout",
     "output_type": "stream",
     "text": [
      "[[ 0.03754331  0.35153606  0.13021346  0.59421936  0.43911007  0.20406829\n",
      "   0.15630916  0.49605104]\n",
      " [-0.37748501 -0.06817937  0.04400371 -0.0517022  -0.61774564 -0.04367017\n",
      "   0.035871    0.680767  ]\n",
      " [-0.77356029  0.16197185  0.11543871  0.16622399 -0.02967737  0.18984135\n",
      "   0.32322526 -0.43933818]\n",
      " [-0.23125246  0.16124192 -0.15621341  0.3658491   0.02922288 -0.76264883\n",
      "  -0.41739824 -0.07460996]\n",
      " [ 0.0038812  -0.749146   -0.09947737  0.58054963 -0.10307567  0.22518623\n",
      "  -0.14738684 -0.09367647]\n",
      " [-0.43806921 -0.37473452 -0.08110736 -0.38077895  0.63349394 -0.01138431\n",
      "  -0.19035642  0.28003331]\n",
      " [ 0.10834769 -0.31953982  0.06414212  0.02393198  0.10834285 -0.52409926\n",
      "   0.76978045  0.04987973]\n",
      " [ 0.02373672 -0.1256533   0.96062013 -0.01228987  0.01267303 -0.11514164\n",
      "  -0.21228395 -0.04714929]]\n"
     ]
    }
   ],
   "source": [
    "print(Vt)"
   ]
  },
  {
   "cell_type": "markdown",
   "metadata": {
    "deletable": false,
    "nbgrader": {
     "cell_type": "markdown",
     "checksum": "d9da0414162e7b99af56308b8f287560",
     "grade": true,
     "grade_id": "cell-45c001e1fafdb5f6",
     "locked": false,
     "points": 50,
     "schema_version": 3,
     "solution": true,
     "task": false
    }
   },
   "source": [
    "The attributes that are represented by the first principal component is the attribute with the most variation. Observations that have a large negative projection onto the second principal component are those that deviate significantly from the mean in the direction defined by the second principle component"
   ]
  },
  {
   "cell_type": "markdown",
   "metadata": {
    "deletable": false,
    "editable": false,
    "nbgrader": {
     "cell_type": "markdown",
     "checksum": "8d8cd03c8c04baa9ebaf0789c3346301",
     "grade": false,
     "grade_id": "cell-ea5dff1f5315c6f2",
     "locked": true,
     "schema_version": 3,
     "solution": false,
     "task": false
    }
   },
   "source": [
    "## 1.4 Similarity measures\n",
    "\n",
    "We will use a subset of the data on wild faces described by Berg in 2005 transformed to a total\n",
    "of 1000 gray scale images of size 40x40 pixels, we will attempt to find faces in the\n",
    "data base that are the most similar to a given query face. To measure similarity we\n",
    "will consider the following measures: SMC, Jaccard, Cosine, ExtendedJaccard, and\n",
    "Correlation. These measures of similarity are described in *Introduction to Data Mining*, page 73-77 and are given by\n",
    "\n",
    "\\begin{eqnarray*}\n",
    "\\textrm{SMC}({x},{y}) & = & \\frac{N_{00} + N_{11}}{N_{00} + N_{11} + N_{01} + N_{10}}\\\\\n",
    "\\textrm{Jaccard}({x},{y}) & = & \\frac{N_{00} + N_{11}}{N_{11} + N_{01} + N_{10}} \\\\\n",
    "\\textrm{Cosine}({x},{y}) & = & \\frac{{x}^T {y}}{\\|{x}\\| \\|{y}\\|} \\\\\n",
    "\\textrm{ExtendedJaccard}({x},{y}) & = & \\frac{{x}^T {y}}{\\|{x}\\|^2 + \\|{y}\\|^2 - {x}^T {y}} \\\\\n",
    "\\textrm{Correlation}({x},{y}) & = & \\frac{\\textrm{cov}({x},{y})}{\\textrm{std}({x})*  \\textrm{std}({y})}\n",
    "\\end{eqnarray*}\n",
    ", where N_{ab} denotes the number of matches where $x$ has label $a$ and $y$ has label $b$, $\\textrm{cov}({x},{y})$ denotes the covariance between ${x}$ and ${y}$, and $\\textrm{std}({x})$ denotes the standard deviation of ${x}$.\n",
    "\n",
    "Notice that the SMC and Jaccard similarity measures only are defined for binary data, i.e., data that takes values in $\\{0,1\\}$. As the data we analyze is non-binary, the script will transform the data to be binary when calculating these two measures of similarity by setting\n",
    "$$x_i = \\left\\{ \\begin{array}{ll} 0 & \\textrm{if~} x_i < \\textrm{median}({x}) \\\\\n",
    "                                1 & \\textrm{otherwise.} \\end{array} \\right.$$\n",
    "                                \n",
    "for a given sample $x$.\n",
    "                                \n",
    "### 1.4.1\n",
    "> (0.5 points) Inspect and run the simfaces function from the Toolbox. The function loads the CBCL face database, computes the similarity between a selected query image and all others, and display the query image, the 5 most similar images, and the 5 least similar images. The value of the used similarity measure is shown below each image. Try changing the query image and the similarity measure and see what happens. Which similarity measures produce similar results? Which one gives the best result? Why?\n",
    "\n",
    "> Remember to make sure we can reproduce and see all results. Do not comment out any code you used to obtain your answer!\n",
    "\n"
   ]
  },
  {
   "cell_type": "code",
   "execution_count": 25,
   "metadata": {
    "deletable": false,
    "nbgrader": {
     "cell_type": "code",
     "checksum": "b9b6a6017e6020fe1810bef5ebba4fe7",
     "grade": false,
     "grade_id": "cell-908351ba7565b72a",
     "locked": false,
     "schema_version": 3,
     "solution": true,
     "task": false
    }
   },
   "outputs": [
    {
     "data": {
      "image/png": "[encoded data removed]",
      "text/plain": [
       "<Figure size 1200x800 with 11 Axes>"
      ]
     },
     "metadata": {},
     "output_type": "display_data"
    }
   ],
   "source": [
    "import sys\n",
    "from toolbox.simfaces import simfaces\n",
    "\n",
    "simfaces(1,'ext')\n",
    "# YOUR CODE HERE\n"
   ]
  },
  {
   "cell_type": "markdown",
   "metadata": {
    "deletable": false,
    "nbgrader": {
     "cell_type": "markdown",
     "checksum": "f0765df7fa698ab561834c4c4c407450",
     "grade": true,
     "grade_id": "cell-76cb1de2f0899a6b",
     "locked": false,
     "points": 50,
     "schema_version": 3,
     "solution": true,
     "task": false
    }
   },
   "source": [
    "When looking at the sim values extended jaccard seems to produce the highest results. Since it squares some of it inputs it very likely that when something is considered similar it will very likely be seen as very similar"
   ]
  },
  {
   "cell_type": "markdown",
   "metadata": {
    "deletable": false,
    "editable": false,
    "nbgrader": {
     "cell_type": "markdown",
     "checksum": "83ec26105e2e3e86aba1e9037ead702d",
     "grade": false,
     "grade_id": "cell-4ceadd33d900b6cf",
     "locked": true,
     "schema_version": 3,
     "solution": false,
     "task": false
    }
   },
   "source": [
    "\n",
    "> (0.75 points) We will investigate how scaling and translation impact the following three\n",
    "similarity measures: Cosine, ExtendedJaccard, and Correlation. Let **x** and **y** be two small vectors of the same size. Let $\\alpha$ and $\\beta$ be two constants. You can generate these randomly or set them as you see fit. Using Python, calculate the following similarity measures, and check if the statements below are correct.\n",
    "\n",
    "\\begin{eqnarray*}\n",
    "\\textrm{Cosine}(\\alpha{x},{y}) & = & \\textrm{Cosine}({x},{y}) \\\\\n",
    "\\textrm{ExtendedJaccard}(\\alpha{x},{y}) & = & \\textrm{ExtendedJaccard}({x},{y}) \\\\\n",
    "\\textrm{Correlation}(\\alpha{x},{y}) & = & \\textrm{Correlation}({x},{y}) \\\\\n",
    "\\textrm{Cosine}(\\beta + {x},{y}) & = & \\textrm{Cosine}({x},{y}) \\\\\n",
    "\\textrm{ExtendedJaccard}(\\beta + {x},{y}) & = & \\textrm{ExtendedJaccard}({x},{y}) \\\\\n",
    "\\textrm{Correlation}(\\beta + {x},{y}) & = & \\textrm{Correlation}({x},{y})\n",
    "\\end{eqnarray*}\n",
    "\n",
    "> Type `help similarity` or study `similarity.py` to learn about the function that is used to compute the similarity measures. Do not forget to also import similarity.py!\n",
    "\n",
    "> Even though a similarity measure is theoretically invariant e.g.\\ to scaling, it might not be exactly invariant numerically.\n",
    "\n",
    "> Do not forget to also provide an explanation in addition to the calculations!\n"
   ]
  },
  {
   "cell_type": "code",
   "execution_count": 35,
   "metadata": {
    "deletable": false,
    "nbgrader": {
     "cell_type": "code",
     "checksum": "606fa2df62ec0ca046bc310c06bbe1aa",
     "grade": false,
     "grade_id": "cell-8437413cbb144cb5",
     "locked": false,
     "schema_version": 3,
     "solution": true,
     "task": false
    }
   },
   "outputs": [
    {
     "name": "stdout",
     "output_type": "stream",
     "text": [
      "cosine(x,y) = cosine(ax,y)  True\n",
      "ExtendedJaccard(x,y) = ExtendedJaccard(a*x,y)  False\n",
      "Correlation(x,y) = Correlation(a*x,y)  True\n",
      "cosine(x,y) = cosine(b + x,y)  False\n",
      "ExtendedJaccard(x,y) = ExtendedJaccard(b + x,y)  False\n",
      "Correlation(x,y) = Correlation(b + x,y)  True\n"
     ]
    }
   ],
   "source": [
    "from toolbox.similarity import similarity\n",
    "x = np.array([1,2,3,4,5])\n",
    "y = np.array([5,3,3,2,1])\n",
    "\n",
    "a = 2\n",
    "b = 3\n",
    "print(\"cosine(x,y) = cosine(ax,y) \", similarity(x, y, \"cos\") == similarity(a*x, y, \"cos\"))\n",
    "print(\"ExtendedJaccard(x,y) = ExtendedJaccard(a*x,y) \", similarity(x, y, \"ext\") == similarity(a*x, y, \"ext\"))\n",
    "print(\"Correlation(x,y) = Correlation(a*x,y) \", similarity(x, y, \"cor\") == similarity(a*x, y, \"cor\"))\n",
    "print(\"cosine(x,y) = cosine(b + x,y) \", similarity(x, y, \"cos\") == similarity(b+x, y, \"cos\"))\n",
    "print(\"ExtendedJaccard(x,y) = ExtendedJaccard(b + x,y) \", similarity(x, y, \"ext\") == similarity(b+x, y, \"ext\"))\n",
    "print(\"Correlation(x,y) = Correlation(b + x,y) \", similarity(x, y, \"cor\") == similarity(b+x, y, \"cor\"))\n",
    "\n"
   ]
  },
  {
   "cell_type": "markdown",
   "metadata": {
    "deletable": false,
    "nbgrader": {
     "cell_type": "markdown",
     "checksum": "9900af75bb7eaf9db6deae65c79e0a75",
     "grade": true,
     "grade_id": "cell-3ed567a7c26f66a8",
     "locked": false,
     "points": 75,
     "schema_version": 3,
     "solution": true,
     "task": false
    }
   },
   "source": [
    "### ax vs x\n",
    "\n",
    "for the cosine are the same because we are dividing through the size of the factors so it does not matter wether or not they are scaled differently.\n",
    "\n",
    "For the jaccard the diveders scales quadraticly that means that there will be a diffrence.\n",
    "\n",
    "for the final one the covariance and the deviation scale similarly if you change them.\n",
    "\n",
    "### x vs b + x\n",
    "\n",
    "For the cosine the are not equal to eachother because the length of the vector changes.\n",
    "\n",
    "for the extended jaccard it is also not the same since the divider scales faster the the enumerator.\n",
    "\n",
    "For the correlation they again will be scaled equal so they will remain the same."
   ]
  },
  {
   "cell_type": "code",
   "execution_count": null,
   "metadata": {},
   "outputs": [],
   "source": []
  },
  {
   "cell_type": "code",
   "execution_count": null,
   "metadata": {},
   "outputs": [],
   "source": []
  }
 ],
 "metadata": {
  "kernelspec": {
   "display_name": "Python 3 (ipykernel)",
   "language": "python",
   "name": "python3"
  },
  "language_info": {
   "codemirror_mode": {
    "name": "ipython",
    "version": 3
   },
   "file_extension": ".py",
   "mimetype": "text/x-python",
   "name": "python",
   "nbconvert_exporter": "python",
   "pygments_lexer": "ipython3",
   "version": "3.11.4"
  },
  "varInspector": {
   "cols": {
    "lenName": 16,
    "lenType": 16,
    "lenVar": 40
   },
   "kernels_config": {
    "python": {
     "delete_cmd_postfix": "",
     "delete_cmd_prefix": "del ",
     "library": "var_list.py",
     "varRefreshCmd": "print(var_dic_list())"
    },
    "r": {
     "delete_cmd_postfix": ") ",
     "delete_cmd_prefix": "rm(",
     "library": "var_list.r",
     "varRefreshCmd": "cat(var_dic_list()) "
    }
   },
   "position": {
    "height": "790px",
    "left": "827px",
    "right": "20px",
    "top": "64px",
    "width": "800px"
   },
   "types_to_exclude": [
    "module",
    "function",
    "builtin_function_or_method",
    "instance",
    "_Feature"
   ],
   "window_display": false
  }
 },
 "nbformat": 4,
 "nbformat_minor": 2
}
